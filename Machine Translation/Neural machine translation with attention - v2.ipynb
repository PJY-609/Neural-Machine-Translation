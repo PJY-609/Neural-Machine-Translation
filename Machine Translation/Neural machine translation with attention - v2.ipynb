{
 "cells": [
  {
   "cell_type": "markdown",
   "metadata": {},
   "source": [
    "# Neural Machine Translation\n",
    "\n",
    "Welcome to your first programming assignment for this week! \n",
    "\n",
    "You will build a Neural Machine Translation (NMT) model to translate human readable dates (\"25th of June, 2009\") into machine readable dates (\"2009-06-25\"). You will do this using an attention model, one of the most sophisticated sequence to sequence models. \n",
    "\n",
    "This notebook was produced together with NVIDIA's Deep Learning Institute. \n",
    "\n",
    "Let's load all the packages you will need for this assignment."
   ]
  },
  {
   "cell_type": "code",
   "execution_count": 2,
   "metadata": {},
   "outputs": [],
   "source": [
    "from keras.layers import Bidirectional, Concatenate, Permute, Dot, Input, LSTM, Multiply\n",
    "from keras.layers import RepeatVector, Dense, Activation, Lambda\n",
    "from keras.optimizers import Adam\n",
    "from keras.utils import to_categorical\n",
    "from keras.models import load_model, Model\n",
    "import keras.backend as K\n",
    "import numpy as np\n",
    "\n",
    "from faker import Faker\n",
    "import random\n",
    "from tqdm import tqdm\n",
    "from babel.dates import format_date\n",
    "from nmt_utils import *\n",
    "import matplotlib.pyplot as plt\n",
    "%matplotlib inline"
   ]
  },
  {
   "cell_type": "markdown",
   "metadata": {},
   "source": [
    "## 1 - Translating human readable dates into machine readable dates\n",
    "\n",
    "The model you will build here could be used to translate from one language to another, such as translating from English to Hindi. However, language translation requires massive datasets and usually takes days of training on GPUs. To give you a place to experiment with these models even without using massive datasets, we will instead use a simpler \"date translation\" task. \n",
    "\n",
    "The network will input a date written in a variety of possible formats (*e.g. \"the 29th of August 1958\", \"03/30/1968\", \"24 JUNE 1987\"*) and translate them into standardized, machine readable dates (*e.g. \"1958-08-29\", \"1968-03-30\", \"1987-06-24\"*). We will have the network learn to output dates in the common machine-readable format YYYY-MM-DD. \n",
    "\n",
    "\n",
    "\n",
    "<!-- \n",
    "Take a look at [nmt_utils.py](./nmt_utils.py) to see all the formatting. Count and figure out how the formats work, you will need this knowledge later. !--> "
   ]
  },
  {
   "cell_type": "markdown",
   "metadata": {},
   "source": [
    "### 1.1 - Dataset\n",
    "\n",
    "We will train the model on a dataset of 10000 human readable dates and their equivalent, standardized, machine readable dates. Let's run the following cells to load the dataset and print some examples. "
   ]
  },
  {
   "cell_type": "code",
   "execution_count": 3,
   "metadata": {},
   "outputs": [
    {
     "name": "stderr",
     "output_type": "stream",
     "text": [
      "100%|█████████████████████████████████████████████████████████████████████████| 10000/10000 [00:00<00:00, 10085.43it/s]\n"
     ]
    }
   ],
   "source": [
    "m = 10000\n",
    "dataset, human_vocab, machine_vocab, inv_machine_vocab = load_dataset(m)"
   ]
  },
  {
   "cell_type": "code",
   "execution_count": 4,
   "metadata": {},
   "outputs": [
    {
     "data": {
      "text/plain": [
       "[('9 may 1998', '1998-05-09'),\n",
       " ('10.09.70', '1970-09-10'),\n",
       " ('4/28/90', '1990-04-28'),\n",
       " ('thursday january 26 1995', '1995-01-26'),\n",
       " ('monday march 7 1983', '1983-03-07'),\n",
       " ('sunday may 22 1988', '1988-05-22'),\n",
       " ('tuesday july 8 2008', '2008-07-08'),\n",
       " ('08 sep 1999', '1999-09-08'),\n",
       " ('1 jan 1981', '1981-01-01'),\n",
       " ('monday may 22 1995', '1995-05-22')]"
      ]
     },
     "execution_count": 4,
     "metadata": {},
     "output_type": "execute_result"
    }
   ],
   "source": [
    "dataset[:10]"
   ]
  },
  {
   "cell_type": "markdown",
   "metadata": {},
   "source": [
    "You've loaded:\n",
    "- `dataset`: a list of tuples of (human readable date, machine readable date)\n",
    "- `human_vocab`: a python dictionary mapping all characters used in the human readable dates to an integer-valued index \n",
    "- `machine_vocab`: a python dictionary mapping all characters used in machine readable dates to an integer-valued index. These indices are not necessarily consistent with `human_vocab`. \n",
    "- `inv_machine_vocab`: the inverse dictionary of `machine_vocab`, mapping from indices back to characters. \n",
    "\n",
    "Let's preprocess the data and map the raw text data into the index values. We will also use Tx=30 (which we assume is the maximum length of the human readable date; if we get a longer input, we would have to truncate it) and Ty=10 (since \"YYYY-MM-DD\" is 10 characters long). "
   ]
  },
  {
   "cell_type": "code",
   "execution_count": 5,
   "metadata": {},
   "outputs": [
    {
     "name": "stdout",
     "output_type": "stream",
     "text": [
      "X.shape: (10000, 30)\n",
      "Y.shape: (10000, 10)\n",
      "Xoh.shape: (10000, 30, 37)\n",
      "Yoh.shape: (10000, 10, 11)\n"
     ]
    }
   ],
   "source": [
    "Tx = 30\n",
    "Ty = 10\n",
    "X, Y, Xoh, Yoh = preprocess_data(dataset, human_vocab, machine_vocab, Tx, Ty)\n",
    "\n",
    "print(\"X.shape:\", X.shape)\n",
    "print(\"Y.shape:\", Y.shape)\n",
    "print(\"Xoh.shape:\", Xoh.shape)\n",
    "print(\"Yoh.shape:\", Yoh.shape)"
   ]
  },
  {
   "cell_type": "markdown",
   "metadata": {},
   "source": [
    "You now have:\n",
    "- `X`: a processed version of the human readable dates in the training set, where each character is replaced by an index mapped to the character via `human_vocab`. Each date is further padded to $T_x$ values with a special character (< pad >). `X.shape = (m, Tx)`\n",
    "- `Y`: a processed version of the machine readable dates in the training set, where each character is replaced by the index it is mapped to in `machine_vocab`. You should have `Y.shape = (m, Ty)`. \n",
    "- `Xoh`: one-hot version of `X`, the \"1\" entry's index is mapped to the character thanks to `human_vocab`. `Xoh.shape = (m, Tx, len(human_vocab))`\n",
    "- `Yoh`: one-hot version of `Y`, the \"1\" entry's index is mapped to the character thanks to `machine_vocab`. `Yoh.shape = (m, Tx, len(machine_vocab))`. Here, `len(machine_vocab) = 11` since there are 11 characters ('-' as well as 0-9). \n"
   ]
  },
  {
   "cell_type": "markdown",
   "metadata": {},
   "source": [
    "Lets also look at some examples of preprocessed training examples. Feel free to play with `index` in the cell below to navigate the dataset and see how source/target dates are preprocessed. "
   ]
  },
  {
   "cell_type": "code",
   "execution_count": 6,
   "metadata": {},
   "outputs": [
    {
     "name": "stdout",
     "output_type": "stream",
     "text": [
      "Source date: 9 may 1998\n",
      "Target date: 1998-05-09\n",
      "\n",
      "Source after preprocessing (indices): [12  0 24 13 34  0  4 12 12 11 36 36 36 36 36 36 36 36 36 36 36 36 36 36\n",
      " 36 36 36 36 36 36]\n",
      "Target after preprocessing (indices): [ 2 10 10  9  0  1  6  0  1 10]\n",
      "\n",
      "Source after preprocessing (one-hot): [[0. 0. 0. ... 0. 0. 0.]\n",
      " [1. 0. 0. ... 0. 0. 0.]\n",
      " [0. 0. 0. ... 0. 0. 0.]\n",
      " ...\n",
      " [0. 0. 0. ... 0. 0. 1.]\n",
      " [0. 0. 0. ... 0. 0. 1.]\n",
      " [0. 0. 0. ... 0. 0. 1.]]\n",
      "Target after preprocessing (one-hot): [[0. 0. 1. 0. 0. 0. 0. 0. 0. 0. 0.]\n",
      " [0. 0. 0. 0. 0. 0. 0. 0. 0. 0. 1.]\n",
      " [0. 0. 0. 0. 0. 0. 0. 0. 0. 0. 1.]\n",
      " [0. 0. 0. 0. 0. 0. 0. 0. 0. 1. 0.]\n",
      " [1. 0. 0. 0. 0. 0. 0. 0. 0. 0. 0.]\n",
      " [0. 1. 0. 0. 0. 0. 0. 0. 0. 0. 0.]\n",
      " [0. 0. 0. 0. 0. 0. 1. 0. 0. 0. 0.]\n",
      " [1. 0. 0. 0. 0. 0. 0. 0. 0. 0. 0.]\n",
      " [0. 1. 0. 0. 0. 0. 0. 0. 0. 0. 0.]\n",
      " [0. 0. 0. 0. 0. 0. 0. 0. 0. 0. 1.]]\n"
     ]
    }
   ],
   "source": [
    "index = 0\n",
    "print(\"Source date:\", dataset[index][0])\n",
    "print(\"Target date:\", dataset[index][1])\n",
    "print()\n",
    "print(\"Source after preprocessing (indices):\", X[index])\n",
    "print(\"Target after preprocessing (indices):\", Y[index])\n",
    "print()\n",
    "print(\"Source after preprocessing (one-hot):\", Xoh[index])\n",
    "print(\"Target after preprocessing (one-hot):\", Yoh[index])"
   ]
  },
  {
   "cell_type": "markdown",
   "metadata": {},
   "source": [
    "## 2 - Neural machine translation with attention\n",
    "\n",
    "If you had to translate a book's paragraph from French to English, you would not read the whole paragraph, then close the book and translate. Even during the translation process, you would read/re-read and focus on the parts of the French paragraph corresponding to the parts of the English you are writing down. \n",
    "\n",
    "The attention mechanism tells a Neural Machine Translation model where it should pay attention to at any step. \n",
    "\n",
    "\n",
    "### 2.1 - Attention mechanism\n",
    "\n",
    "In this part, you will implement the attention mechanism presented in the lecture videos. Here is a figure to remind you how the model works. The diagram on the left shows the attention model. The diagram on the right shows what one \"Attention\" step does to calculate the attention variables $\\alpha^{\\langle t, t' \\rangle}$, which are used to compute the context variable $context^{\\langle t \\rangle}$ for each timestep in the output ($t=1, \\ldots, T_y$). \n",
    "\n",
    "<table>\n",
    "<td> \n",
    "<img src=\"images/attn_model.png\" style=\"width:500;height:500px;\"> <br>\n",
    "</td> \n",
    "<td> \n",
    "<img src=\"images/attn_mechanism.png\" style=\"width:500;height:500px;\"> <br>\n",
    "</td> \n",
    "</table>\n",
    "<caption><center> **Figure 1**: Neural machine translation with attention</center></caption>\n"
   ]
  },
  {
   "cell_type": "markdown",
   "metadata": {},
   "source": [
    "\n",
    "Here are some properties of the model that you may notice: \n",
    "\n",
    "- There are two separate LSTMs in this model (see diagram on the left). Because the one at the bottom of the picture is a Bi-directional LSTM and comes *before* the attention mechanism, we will call it *pre-attention* Bi-LSTM. The LSTM at the top of the diagram comes *after* the attention mechanism, so we will call it the *post-attention* LSTM. The pre-attention Bi-LSTM goes through $T_x$ time steps; the post-attention LSTM goes through $T_y$ time steps. \n",
    "\n",
    "- The post-attention LSTM passes $s^{\\langle t \\rangle}, c^{\\langle t \\rangle}$ from one time step to the next. In the lecture videos, we were using only a basic RNN for the post-activation sequence model, so the state captured by the RNN output activations $s^{\\langle t\\rangle}$. But since we are using an LSTM here, the LSTM has both the output activation $s^{\\langle t\\rangle}$ and the hidden cell state $c^{\\langle t\\rangle}$. However, unlike previous text generation examples (such as Dinosaurus in week 1), in this model the post-activation LSTM at time $t$ does will not take the specific generated $y^{\\langle t-1 \\rangle}$ as input; it only takes $s^{\\langle t\\rangle}$ and $c^{\\langle t\\rangle}$ as input. We have designed the model this way, because (unlike language generation where adjacent characters are highly correlated) there isn't as strong a dependency between the previous character and the next character in a YYYY-MM-DD date. \n",
    "\n",
    "- We use $a^{\\langle t \\rangle} = [\\overrightarrow{a}^{\\langle t \\rangle}; \\overleftarrow{a}^{\\langle t \\rangle}]$ to represent the concatenation of the activations of both the forward-direction and backward-directions of the pre-attention Bi-LSTM. \n",
    "\n",
    "- The diagram on the right uses a `RepeatVector` node to copy $s^{\\langle t-1 \\rangle}$'s value $T_x$ times, and then `Concatenation` to concatenate $s^{\\langle t-1 \\rangle}$ and $a^{\\langle t \\rangle}$ to compute $e^{\\langle t, t'}$, which is then passed through a softmax to compute $\\alpha^{\\langle t, t' \\rangle}$. We'll explain how to use `RepeatVector` and `Concatenation` in Keras below. \n",
    "\n",
    "Lets implement this model. You will start by implementing two functions: `one_step_attention()` and `model()`.\n",
    "\n",
    "**1) `one_step_attention()`**: At step $t$, given all the hidden states of the Bi-LSTM ($[a^{<1>},a^{<2>}, ..., a^{<T_x>}]$) and the previous hidden state of the second LSTM ($s^{<t-1>}$), `one_step_attention()` will compute the attention weights ($[\\alpha^{<t,1>},\\alpha^{<t,2>}, ..., \\alpha^{<t,T_x>}]$) and output the context vector (see Figure  1 (right) for details):\n",
    "$$context^{<t>} = \\sum_{t' = 0}^{T_x} \\alpha^{<t,t'>}a^{<t'>}\\tag{1}$$ \n",
    "\n",
    "Note that we are denoting the attention in this notebook $context^{\\langle t \\rangle}$. In the lecture videos, the context was denoted $c^{\\langle t \\rangle}$, but here we are calling it $context^{\\langle t \\rangle}$ to avoid confusion with the (post-attention) LSTM's internal memory cell variable, which is sometimes also denoted $c^{\\langle t \\rangle}$. \n",
    "  \n",
    "**2) `model()`**: Implements the entire model. It first runs the input through a Bi-LSTM to get back $[a^{<1>},a^{<2>}, ..., a^{<T_x>}]$. Then, it calls `one_step_attention()` $T_y$ times (`for` loop). At each iteration of this loop, it gives the computed context vector $c^{<t>}$ to the second LSTM, and runs the output of the LSTM through a dense layer with softmax activation to generate a prediction $\\hat{y}^{<t>}$. \n",
    "\n",
    "\n",
    "\n",
    "**Exercise**: Implement `one_step_attention()`. The function `model()` will call the layers in `one_step_attention()` $T_y$ using a for-loop, and it is important that all $T_y$ copies have the same weights. I.e., it should not re-initiaiize the weights every time. In other words, all $T_y$ steps should have shared weights. Here's how you can implement layers with shareable weights in Keras:\n",
    "1. Define the layer objects (as global variables for examples).\n",
    "2. Call these objects when propagating the input.\n",
    "\n",
    "We have defined the layers you need as global variables. Please run the following cells to create them. Please check the Keras documentation to make sure you understand what these layers are: [RepeatVector()](https://keras.io/layers/core/#repeatvector), [Concatenate()](https://keras.io/layers/merge/#concatenate), [Dense()](https://keras.io/layers/core/#dense), [Activation()](https://keras.io/layers/core/#activation), [Dot()](https://keras.io/layers/merge/#dot)."
   ]
  },
  {
   "cell_type": "code",
   "execution_count": 7,
   "metadata": {
    "collapsed": true
   },
   "outputs": [],
   "source": [
    "# Defined shared layers as global variables\n",
    "repeator = RepeatVector(Tx)\n",
    "concatenator = Concatenate(axis=-1)\n",
    "densor = Dense(1, activation = \"relu\")\n",
    "activator = Activation(softmax, name='attention_weights') # We are using a custom softmax(axis = 1) loaded in this notebook\n",
    "dotor = Dot(axes = 1)"
   ]
  },
  {
   "cell_type": "markdown",
   "metadata": {},
   "source": [
    "Now you can use these layers to implement `one_step_attention()`. In order to propagate a Keras tensor object X through one of these layers, use `layer(X)` (or `layer([X,Y])` if it requires multiple inputs.), e.g. `densor(X)` will propagate X through the `Dense(1)` layer defined above."
   ]
  },
  {
   "cell_type": "code",
   "execution_count": 18,
   "metadata": {
    "collapsed": true
   },
   "outputs": [],
   "source": [
    "# GRADED FUNCTION: one_step_attention\n",
    "\n",
    "def one_step_attention(a, s_prev):\n",
    "    \"\"\"\n",
    "    Performs one step of attention: Outputs a context vector computed as a dot product of the attention weights\n",
    "    \"alphas\" and the hidden states \"a\" of the Bi-LSTM.\n",
    "    \n",
    "    Arguments:\n",
    "    a -- hidden state output of the Bi-LSTM, numpy-array of shape (m, Tx, 2*n_a)\n",
    "    s_prev -- previous hidden state of the (post-attention) LSTM, numpy-array of shape (m, n_s)\n",
    "    \n",
    "    Returns:\n",
    "    context -- context vector, input of the next (post-attetion) LSTM cell\n",
    "    \"\"\"\n",
    "    \n",
    "    ### START CODE HERE ###\n",
    "    # Use repeator to repeat s_prev to be of shape (m, Tx, n_s) so that you can concatenate it with all hidden states \"a\" (≈ 1 line)\n",
    "    s_prev = repeator(s_prev)\n",
    "    # Use concatenator to concatenate a and s_prev on the last axis (≈ 1 line)\n",
    "    concat = concatenator([a, s_prev])\n",
    "    # Use densor to propagate concat through a small fully-connected neural network to compute the \"energies\" variable e. (≈1 lines)\n",
    "    e = densor(concat)\n",
    "    # Use activator and e to compute the attention weights \"alphas\" (≈ 1 line)\n",
    "    alphas = activator(e)\n",
    "    # Use dotor together with \"alphas\" and \"a\" to compute the context vector to be given to the next (post-attention) LSTM-cell (≈ 1 line)\n",
    "    context = dotor([alphas, a])\n",
    "    ### END CODE HERE ###\n",
    "    \n",
    "    return context"
   ]
  },
  {
   "cell_type": "markdown",
   "metadata": {},
   "source": [
    "You will be able to check the expected output of `one_step_attention()` after you've coded the `model()` function."
   ]
  },
  {
   "cell_type": "markdown",
   "metadata": {},
   "source": [
    "**Exercise**: Implement `model()` as explained in figure 2 and the text above. Again, we have defined global layers that will share weights to be used in `model()`."
   ]
  },
  {
   "cell_type": "code",
   "execution_count": 22,
   "metadata": {
    "collapsed": true
   },
   "outputs": [],
   "source": [
    "n_a = 64\n",
    "n_s = 128\n",
    "post_activation_LSTM_cell = LSTM(n_s, return_state = True)\n",
    "output_layer = Dense(len(machine_vocab), activation=softmax)"
   ]
  },
  {
   "cell_type": "markdown",
   "metadata": {},
   "source": [
    "Now you can use these layers $T_y$ times in a `for` loop to generate the outputs, and their parameters will not be reinitialized. You will have to carry out the following steps: \n",
    "\n",
    "1. Propagate the input into a [Bidirectional](https://keras.io/layers/wrappers/#bidirectional) [LSTM](https://keras.io/layers/recurrent/#lstm)\n",
    "2. Iterate for $t = 0, \\dots, T_y-1$: \n",
    "    1. Call `one_step_attention()` on $[\\alpha^{<t,1>},\\alpha^{<t,2>}, ..., \\alpha^{<t,T_x>}]$ and $s^{<t-1>}$ to get the context vector $context^{<t>}$.\n",
    "    2. Give $context^{<t>}$ to the post-attention LSTM cell. Remember pass in the previous hidden-state $s^{\\langle t-1\\rangle}$ and cell-states $c^{\\langle t-1\\rangle}$ of this LSTM using `initial_state= [previous hidden state, previous cell state]`. Get back the new hidden state $s^{<t>}$ and the new cell state $c^{<t>}$.\n",
    "    3. Apply a softmax layer to $s^{<t>}$, get the output. \n",
    "    4. Save the output by adding it to the list of outputs.\n",
    "\n",
    "3. Create your Keras model instance, it should have three inputs (\"inputs\", $s^{<0>}$ and $c^{<0>}$) and output the list of \"outputs\"."
   ]
  },
  {
   "cell_type": "code",
   "execution_count": 23,
   "metadata": {
    "collapsed": true
   },
   "outputs": [],
   "source": [
    "# GRADED FUNCTION: model\n",
    "\n",
    "def model(Tx, Ty, n_a, n_s, human_vocab_size, machine_vocab_size):\n",
    "    \"\"\"\n",
    "    Arguments:\n",
    "    Tx -- length of the input sequence\n",
    "    Ty -- length of the output sequence\n",
    "    n_a -- hidden state size of the Bi-LSTM\n",
    "    n_s -- hidden state size of the post-attention LSTM\n",
    "    human_vocab_size -- size of the python dictionary \"human_vocab\"\n",
    "    machine_vocab_size -- size of the python dictionary \"machine_vocab\"\n",
    "\n",
    "    Returns:\n",
    "    model -- Keras model instance\n",
    "    \"\"\"\n",
    "    \n",
    "    # Define the inputs of your model with a shape (Tx,)\n",
    "    # Define s0 and c0, initial hidden state for the decoder LSTM of shape (n_s,)\n",
    "    X = Input(shape=(Tx, human_vocab_size))\n",
    "    s0 = Input(shape=(n_s,), name='s0')\n",
    "    c0 = Input(shape=(n_s,), name='c0')\n",
    "    s = s0\n",
    "    c = c0\n",
    "    \n",
    "    # Initialize empty list of outputs\n",
    "    outputs = []\n",
    "    \n",
    "    ### START CODE HERE ###\n",
    "    \n",
    "    # Step 1: Define your pre-attention Bi-LSTM. Remember to use return_sequences=True. (≈ 1 line)\n",
    "    a = Bidirectional(LSTM(n_a, return_sequences=True))(X)\n",
    "    \n",
    "    # Step 2: Iterate for Ty steps\n",
    "    for t in range(Ty):\n",
    "    \n",
    "        # Step 2.A: Perform one step of the attention mechanism to get back the context vector at step t (≈ 1 line)\n",
    "        context = one_step_attention(a, s)\n",
    "        \n",
    "        # Step 2.B: Apply the post-attention LSTM cell to the \"context\" vector.\n",
    "        # Don't forget to pass: initial_state = [hidden state, cell state] (≈ 1 line)\n",
    "        s, _, c = post_activation_LSTM_cell(context, initial_state=[s, c])\n",
    "        \n",
    "        # Step 2.C: Apply Dense layer to the hidden state output of the post-attention LSTM (≈ 1 line)\n",
    "        out = output_layer(s)\n",
    "        \n",
    "        # Step 2.D: Append \"out\" to the \"outputs\" list (≈ 1 line)\n",
    "        outputs.append(out)\n",
    "    \n",
    "    # Step 3: Create model instance taking three inputs and returning the list of outputs. (≈ 1 line)\n",
    "    model = Model(inputs=[X, s0, c0], outputs=outputs)\n",
    "    \n",
    "    ### END CODE HERE ###\n",
    "    \n",
    "    return model"
   ]
  },
  {
   "cell_type": "markdown",
   "metadata": {},
   "source": [
    "Run the following cell to create your model."
   ]
  },
  {
   "cell_type": "code",
   "execution_count": 24,
   "metadata": {},
   "outputs": [],
   "source": [
    "model = model(Tx, Ty, n_a, n_s, len(human_vocab), len(machine_vocab))"
   ]
  },
  {
   "cell_type": "markdown",
   "metadata": {},
   "source": [
    "Let's get a summary of the model to check if it matches the expected output."
   ]
  },
  {
   "cell_type": "code",
   "execution_count": 25,
   "metadata": {},
   "outputs": [
    {
     "name": "stdout",
     "output_type": "stream",
     "text": [
      "__________________________________________________________________________________________________\n",
      "Layer (type)                    Output Shape         Param #     Connected to                     \n",
      "==================================================================================================\n",
      "input_7 (InputLayer)            (None, 30, 37)       0                                            \n",
      "__________________________________________________________________________________________________\n",
      "s0 (InputLayer)                 (None, 128)          0                                            \n",
      "__________________________________________________________________________________________________\n",
      "bidirectional_6 (Bidirectional) (None, 30, 128)      52224       input_7[0][0]                    \n",
      "__________________________________________________________________________________________________\n",
      "repeat_vector_1 (RepeatVector)  (None, 30, 128)      0           s0[0][0]                         \n",
      "                                                                 lstm_8[0][0]                     \n",
      "                                                                 lstm_8[1][0]                     \n",
      "                                                                 lstm_8[2][0]                     \n",
      "                                                                 lstm_8[3][0]                     \n",
      "                                                                 lstm_8[4][0]                     \n",
      "                                                                 lstm_8[5][0]                     \n",
      "                                                                 lstm_8[6][0]                     \n",
      "                                                                 lstm_8[7][0]                     \n",
      "                                                                 lstm_8[8][0]                     \n",
      "__________________________________________________________________________________________________\n",
      "concatenate_1 (Concatenate)     (None, 30, 256)      0           bidirectional_6[0][0]            \n",
      "                                                                 repeat_vector_1[3][0]            \n",
      "                                                                 bidirectional_6[0][0]            \n",
      "                                                                 repeat_vector_1[4][0]            \n",
      "                                                                 bidirectional_6[0][0]            \n",
      "                                                                 repeat_vector_1[5][0]            \n",
      "                                                                 bidirectional_6[0][0]            \n",
      "                                                                 repeat_vector_1[6][0]            \n",
      "                                                                 bidirectional_6[0][0]            \n",
      "                                                                 repeat_vector_1[7][0]            \n",
      "                                                                 bidirectional_6[0][0]            \n",
      "                                                                 repeat_vector_1[8][0]            \n",
      "                                                                 bidirectional_6[0][0]            \n",
      "                                                                 repeat_vector_1[9][0]            \n",
      "                                                                 bidirectional_6[0][0]            \n",
      "                                                                 repeat_vector_1[10][0]           \n",
      "                                                                 bidirectional_6[0][0]            \n",
      "                                                                 repeat_vector_1[11][0]           \n",
      "                                                                 bidirectional_6[0][0]            \n",
      "                                                                 repeat_vector_1[12][0]           \n",
      "__________________________________________________________________________________________________\n",
      "dense_1 (Dense)                 (None, 30, 1)        257         concatenate_1[3][0]              \n",
      "                                                                 concatenate_1[4][0]              \n",
      "                                                                 concatenate_1[5][0]              \n",
      "                                                                 concatenate_1[6][0]              \n",
      "                                                                 concatenate_1[7][0]              \n",
      "                                                                 concatenate_1[8][0]              \n",
      "                                                                 concatenate_1[9][0]              \n",
      "                                                                 concatenate_1[10][0]             \n",
      "                                                                 concatenate_1[11][0]             \n",
      "                                                                 concatenate_1[12][0]             \n",
      "__________________________________________________________________________________________________\n",
      "attention_weights (Activation)  (None, 30, 1)        0           dense_1[3][0]                    \n",
      "                                                                 dense_1[4][0]                    \n",
      "                                                                 dense_1[5][0]                    \n",
      "                                                                 dense_1[6][0]                    \n",
      "                                                                 dense_1[7][0]                    \n",
      "                                                                 dense_1[8][0]                    \n",
      "                                                                 dense_1[9][0]                    \n",
      "                                                                 dense_1[10][0]                   \n",
      "                                                                 dense_1[11][0]                   \n",
      "                                                                 dense_1[12][0]                   \n",
      "__________________________________________________________________________________________________\n",
      "dot_1 (Dot)                     (None, 1, 128)       0           attention_weights[3][0]          \n",
      "                                                                 bidirectional_6[0][0]            \n",
      "                                                                 attention_weights[4][0]          \n",
      "                                                                 bidirectional_6[0][0]            \n",
      "                                                                 attention_weights[5][0]          \n",
      "                                                                 bidirectional_6[0][0]            \n",
      "                                                                 attention_weights[6][0]          \n",
      "                                                                 bidirectional_6[0][0]            \n",
      "                                                                 attention_weights[7][0]          \n",
      "                                                                 bidirectional_6[0][0]            \n",
      "                                                                 attention_weights[8][0]          \n",
      "                                                                 bidirectional_6[0][0]            \n",
      "                                                                 attention_weights[9][0]          \n",
      "                                                                 bidirectional_6[0][0]            \n",
      "                                                                 attention_weights[10][0]         \n",
      "                                                                 bidirectional_6[0][0]            \n",
      "                                                                 attention_weights[11][0]         \n",
      "                                                                 bidirectional_6[0][0]            \n",
      "                                                                 attention_weights[12][0]         \n"
     ]
    },
    {
     "name": "stdout",
     "output_type": "stream",
     "text": [
      "                                                                 bidirectional_6[0][0]            \n",
      "__________________________________________________________________________________________________\n",
      "c0 (InputLayer)                 (None, 128)          0                                            \n",
      "__________________________________________________________________________________________________\n",
      "lstm_8 (LSTM)                   [(None, 128), (None, 131584      dot_1[2][0]                      \n",
      "                                                                 s0[0][0]                         \n",
      "                                                                 c0[0][0]                         \n",
      "                                                                 dot_1[3][0]                      \n",
      "                                                                 lstm_8[0][0]                     \n",
      "                                                                 lstm_8[0][2]                     \n",
      "                                                                 dot_1[4][0]                      \n",
      "                                                                 lstm_8[1][0]                     \n",
      "                                                                 lstm_8[1][2]                     \n",
      "                                                                 dot_1[5][0]                      \n",
      "                                                                 lstm_8[2][0]                     \n",
      "                                                                 lstm_8[2][2]                     \n",
      "                                                                 dot_1[6][0]                      \n",
      "                                                                 lstm_8[3][0]                     \n",
      "                                                                 lstm_8[3][2]                     \n",
      "                                                                 dot_1[7][0]                      \n",
      "                                                                 lstm_8[4][0]                     \n",
      "                                                                 lstm_8[4][2]                     \n",
      "                                                                 dot_1[8][0]                      \n",
      "                                                                 lstm_8[5][0]                     \n",
      "                                                                 lstm_8[5][2]                     \n",
      "                                                                 dot_1[9][0]                      \n",
      "                                                                 lstm_8[6][0]                     \n",
      "                                                                 lstm_8[6][2]                     \n",
      "                                                                 dot_1[10][0]                     \n",
      "                                                                 lstm_8[7][0]                     \n",
      "                                                                 lstm_8[7][2]                     \n",
      "                                                                 dot_1[11][0]                     \n",
      "                                                                 lstm_8[8][0]                     \n",
      "                                                                 lstm_8[8][2]                     \n",
      "__________________________________________________________________________________________________\n",
      "dense_3 (Dense)                 (None, 11)           1419        lstm_8[0][0]                     \n",
      "                                                                 lstm_8[1][0]                     \n",
      "                                                                 lstm_8[2][0]                     \n",
      "                                                                 lstm_8[3][0]                     \n",
      "                                                                 lstm_8[4][0]                     \n",
      "                                                                 lstm_8[5][0]                     \n",
      "                                                                 lstm_8[6][0]                     \n",
      "                                                                 lstm_8[7][0]                     \n",
      "                                                                 lstm_8[8][0]                     \n",
      "                                                                 lstm_8[9][0]                     \n",
      "==================================================================================================\n",
      "Total params: 185,484\n",
      "Trainable params: 185,484\n",
      "Non-trainable params: 0\n",
      "__________________________________________________________________________________________________\n"
     ]
    }
   ],
   "source": [
    "model.summary()"
   ]
  },
  {
   "cell_type": "markdown",
   "metadata": {},
   "source": [
    "**Expected Output**:\n",
    "\n",
    "Here is the summary you should see\n",
    "<table>\n",
    "    <tr>\n",
    "        <td>\n",
    "            **Total params:**\n",
    "        </td>\n",
    "        <td>\n",
    "         185,484\n",
    "        </td>\n",
    "    </tr>\n",
    "        <tr>\n",
    "        <td>\n",
    "            **Trainable params:**\n",
    "        </td>\n",
    "        <td>\n",
    "         185,484\n",
    "        </td>\n",
    "    </tr>\n",
    "            <tr>\n",
    "        <td>\n",
    "            **Non-trainable params:**\n",
    "        </td>\n",
    "        <td>\n",
    "         0\n",
    "        </td>\n",
    "    </tr>\n",
    "                    <tr>\n",
    "        <td>\n",
    "            **bidirectional_1's output shape **\n",
    "        </td>\n",
    "        <td>\n",
    "         (None, 30, 128)  \n",
    "        </td>\n",
    "    </tr>\n",
    "    <tr>\n",
    "        <td>\n",
    "            **repeat_vector_1's output shape **\n",
    "        </td>\n",
    "        <td>\n",
    "         (None, 30, 128)  \n",
    "        </td>\n",
    "    </tr>\n",
    "                <tr>\n",
    "        <td>\n",
    "            **concatenate_1's output shape **\n",
    "        </td>\n",
    "        <td>\n",
    "         (None, 30, 256) \n",
    "        </td>\n",
    "    </tr>\n",
    "            <tr>\n",
    "        <td>\n",
    "            **attention_weights's output shape **\n",
    "        </td>\n",
    "        <td>\n",
    "         (None, 30, 1)  \n",
    "        </td>\n",
    "    </tr>\n",
    "        <tr>\n",
    "        <td>\n",
    "            **dot_1's output shape **\n",
    "        </td>\n",
    "        <td>\n",
    "         (None, 1, 128) \n",
    "        </td>\n",
    "    </tr>\n",
    "           <tr>\n",
    "        <td>\n",
    "            **dense_2's output shape **\n",
    "        </td>\n",
    "        <td>\n",
    "         (None, 11) \n",
    "        </td>\n",
    "    </tr>\n",
    "</table>\n"
   ]
  },
  {
   "cell_type": "markdown",
   "metadata": {},
   "source": [
    "As usual, after creating your model in Keras, you need to compile it and define what loss, optimizer and metrics your are want to use. Compile your model using `categorical_crossentropy` loss, a custom [Adam](https://keras.io/optimizers/#adam) [optimizer](https://keras.io/optimizers/#usage-of-optimizers) (`learning rate = 0.005`, $\\beta_1 = 0.9$, $\\beta_2 = 0.999$, `decay = 0.01`)  and `['accuracy']` metrics:"
   ]
  },
  {
   "cell_type": "code",
   "execution_count": 30,
   "metadata": {},
   "outputs": [],
   "source": [
    "### START CODE HERE ### (≈2 lines)\n",
    "opt = Adam(lr=0.005, beta_1=0.9, beta_2=0.999, decay=0.01)\n",
    "model.compile(loss='categorical_crossentropy', optimizer=opt, metrics=['accuracy'])\n",
    "### END CODE HERE ###"
   ]
  },
  {
   "cell_type": "markdown",
   "metadata": {},
   "source": [
    "The last step is to define all your inputs and outputs to fit the model:\n",
    "- You already have X of shape $(m = 10000, T_x = 30)$ containing the training examples.\n",
    "- You need to create `s0` and `c0` to initialize your `post_activation_LSTM_cell` with 0s.\n",
    "- Given the `model()` you coded, you need the \"outputs\" to be a list of 11 elements of shape (m, T_y). So that: `outputs[i][0], ..., outputs[i][Ty]` represent the true labels (characters) corresponding to the $i^{th}$ training example (`X[i]`). More generally, `outputs[i][j]` is the true label of the $j^{th}$ character in the $i^{th}$ training example."
   ]
  },
  {
   "cell_type": "code",
   "execution_count": 31,
   "metadata": {
    "collapsed": true
   },
   "outputs": [],
   "source": [
    "s0 = np.zeros((m, n_s))\n",
    "c0 = np.zeros((m, n_s))\n",
    "outputs = list(Yoh.swapaxes(0,1))"
   ]
  },
  {
   "cell_type": "markdown",
   "metadata": {},
   "source": [
    "Let's now fit the model and run it for one epoch."
   ]
  },
  {
   "cell_type": "code",
   "execution_count": 32,
   "metadata": {
    "scrolled": true
   },
   "outputs": [
    {
     "name": "stdout",
     "output_type": "stream",
     "text": [
      "Epoch 1/1\n"
     ]
    },
    {
     "name": "stdout",
     "output_type": "stream",
     "text": [
      " 2800/10000 [=======>......................] - ETA: 34:30 - loss: 24.0157 - dense_3_loss: 2.3987 - dense_3_acc: 0.0100 - dense_3_acc_1: 0.0200 - dense_3_acc_2: 0.0200 - dense_3_acc_3: 0.0900 - dense_3_acc_4: 0.0000e+00 - dense_3_acc_5: 0.0000e+00 - dense_3_acc_6: 0.1100 - dense_3_acc_7: 0.0000e+00 - dense_3_acc_8: 0.0100 - dense_3_acc_9: 0.11 - ETA: 17:24 - loss: 23.6154 - dense_3_loss: 2.4161 - dense_3_acc: 0.0050 - dense_3_acc_1: 0.0100 - dense_3_acc_2: 0.0100 - dense_3_acc_3: 0.0450 - dense_3_acc_4: 0.5000 - dense_3_acc_5: 0.0000e+00 - dense_3_acc_6: 0.0550 - dense_3_acc_7: 0.5000 - dense_3_acc_8: 0.0050 - dense_3_acc_9: 0.0550       - ETA: 11:43 - loss: 23.2392 - dense_3_loss: 2.5062 - dense_3_acc: 0.0033 - dense_3_acc_1: 0.0067 - dense_3_acc_2: 0.0067 - dense_3_acc_3: 0.0300 - dense_3_acc_4: 0.6667 - dense_3_acc_5: 0.0000e+00 - dense_3_acc_6: 0.0367 - dense_3_acc_7: 0.6667 - dense_3_acc_8: 0.0033 - dense_3_acc_9: 0.03 - ETA: 8:52 - loss: 23.1483 - dense_3_loss: 2.8241 - dense_3_acc: 0.0025 - dense_3_acc_1: 0.0050 - dense_3_acc_2: 0.0050 - dense_3_acc_3: 0.0225 - dense_3_acc_4: 0.7500 - dense_3_acc_5: 0.0000e+00 - dense_3_acc_6: 0.0275 - dense_3_acc_7: 0.7500 - dense_3_acc_8: 0.0025 - dense_3_acc_9: 0.0275 - ETA: 7:08 - loss: 22.8449 - dense_3_loss: 2.8231 - dense_3_acc: 0.0020 - dense_3_acc_1: 0.0040 - dense_3_acc_2: 0.0040 - dense_3_acc_3: 0.0180 - dense_3_acc_4: 0.8000 - dense_3_acc_5: 0.0000e+00 - dense_3_acc_6: 0.0220 - dense_3_acc_7: 0.8000 - dense_3_acc_8: 0.0020 - dense_3_acc_9: 0.022 - ETA: 5:58 - loss: 22.6492 - dense_3_loss: 2.8288 - dense_3_acc: 0.0017 - dense_3_acc_1: 0.0850 - dense_3_acc_2: 0.0483 - dense_3_acc_3: 0.0367 - dense_3_acc_4: 0.6667 - dense_3_acc_5: 0.1200 - dense_3_acc_6: 0.0333 - dense_3_acc_7: 0.6667 - dense_3_acc_8: 0.0483 - dense_3_acc_9: 0.0333    - ETA: 5:08 - loss: 22.5429 - dense_3_loss: 2.8134 - dense_3_acc: 0.0014 - dense_3_acc_1: 0.1357 - dense_3_acc_2: 0.0714 - dense_3_acc_3: 0.0386 - dense_3_acc_4: 0.5714 - dense_3_acc_5: 0.2143 - dense_3_acc_6: 0.0414 - dense_3_acc_7: 0.5714 - dense_3_acc_8: 0.0814 - dense_3_acc_9: 0.044 - ETA: 4:31 - loss: 22.4295 - dense_3_loss: 2.7860 - dense_3_acc: 0.0012 - dense_3_acc_1: 0.1625 - dense_3_acc_2: 0.0875 - dense_3_acc_3: 0.0537 - dense_3_acc_4: 0.5000 - dense_3_acc_5: 0.2800 - dense_3_acc_6: 0.0513 - dense_3_acc_7: 0.5000 - dense_3_acc_8: 0.1100 - dense_3_acc_9: 0.057 - ETA: 4:02 - loss: 22.3271 - dense_3_loss: 2.7729 - dense_3_acc: 0.0011 - dense_3_acc_1: 0.1900 - dense_3_acc_2: 0.1000 - dense_3_acc_3: 0.0589 - dense_3_acc_4: 0.4444 - dense_3_acc_5: 0.3289 - dense_3_acc_6: 0.0578 - dense_3_acc_7: 0.4444 - dense_3_acc_8: 0.1367 - dense_3_acc_9: 0.068 - ETA: 3:38 - loss: 22.2598 - dense_3_loss: 2.7722 - dense_3_acc: 1.0000e-03 - dense_3_acc_1: 0.2000 - dense_3_acc_2: 0.1050 - dense_3_acc_3: 0.0660 - dense_3_acc_4: 0.5000 - dense_3_acc_5: 0.2960 - dense_3_acc_6: 0.0520 - dense_3_acc_7: 0.5000 - dense_3_acc_8: 0.1230 - dense_3_acc_9: 0.062 - ETA: 3:19 - loss: 22.1675 - dense_3_loss: 2.7787 - dense_3_acc: 9.0909e-04 - dense_3_acc_1: 0.2173 - dense_3_acc_2: 0.0973 - dense_3_acc_3: 0.0600 - dense_3_acc_4: 0.5455 - dense_3_acc_5: 0.2691 - dense_3_acc_6: 0.0473 - dense_3_acc_7: 0.5455 - dense_3_acc_8: 0.1118 - dense_3_acc_9: 0.056 - ETA: 3:02 - loss: 22.0926 - dense_3_loss: 2.7970 - dense_3_acc: 8.3333e-04 - dense_3_acc_1: 0.2342 - dense_3_acc_2: 0.0892 - dense_3_acc_3: 0.0550 - dense_3_acc_4: 0.5833 - dense_3_acc_5: 0.2467 - dense_3_acc_6: 0.0433 - dense_3_acc_7: 0.5833 - dense_3_acc_8: 0.1025 - dense_3_acc_9: 0.051 - ETA: 2:49 - loss: 22.0307 - dense_3_loss: 2.8136 - dense_3_acc: 7.6923e-04 - dense_3_acc_1: 0.2462 - dense_3_acc_2: 0.0823 - dense_3_acc_3: 0.0508 - dense_3_acc_4: 0.6154 - dense_3_acc_5: 0.2277 - dense_3_acc_6: 0.0400 - dense_3_acc_7: 0.6154 - dense_3_acc_8: 0.0946 - dense_3_acc_9: 0.047 - ETA: 2:37 - loss: 21.9590 - dense_3_loss: 2.8280 - dense_3_acc: 7.1429e-04 - dense_3_acc_1: 0.2629 - dense_3_acc_2: 0.0764 - dense_3_acc_3: 0.0471 - dense_3_acc_4: 0.6429 - dense_3_acc_5: 0.2114 - dense_3_acc_6: 0.0371 - dense_3_acc_7: 0.6429 - dense_3_acc_8: 0.0879 - dense_3_acc_9: 0.044 - ETA: 2:26 - loss: 21.8928 - dense_3_loss: 2.8294 - dense_3_acc: 6.6667e-04 - dense_3_acc_1: 0.2720 - dense_3_acc_2: 0.0833 - dense_3_acc_3: 0.0440 - dense_3_acc_4: 0.6667 - dense_3_acc_5: 0.1973 - dense_3_acc_6: 0.0347 - dense_3_acc_7: 0.6667 - dense_3_acc_8: 0.0820 - dense_3_acc_9: 0.041 - ETA: 2:18 - loss: 21.8106 - dense_3_loss: 2.8158 - dense_3_acc: 6.2500e-04 - dense_3_acc_1: 0.2787 - dense_3_acc_2: 0.0900 - dense_3_acc_3: 0.0531 - dense_3_acc_4: 0.6781 - dense_3_acc_5: 0.1850 - dense_3_acc_6: 0.0325 - dense_3_acc_7: 0.6875 - dense_3_acc_8: 0.0769 - dense_3_acc_9: 0.038 - ETA: 2:10 - loss: 21.7503 - dense_3_loss: 2.8060 - dense_3_acc: 5.8824e-04 - dense_3_acc_1: 0.2871 - dense_3_acc_2: 0.0994 - dense_3_acc_3: 0.0565 - dense_3_acc_4: 0.6382 - dense_3_acc_5: 0.1753 - dense_3_acc_6: 0.0306 - dense_3_acc_7: 0.7059 - dense_3_acc_8: 0.0724 - dense_3_acc_9: 0.036 - ETA: 2:02 - loss: 21.6966 - dense_3_loss: 2.7967 - dense_3_acc: 5.5556e-04 - dense_3_acc_1: 0.2933 - dense_3_acc_2: 0.1050 - dense_3_acc_3: 0.0589 - dense_3_acc_4: 0.6028 - dense_3_acc_5: 0.1656 - dense_3_acc_6: 0.0289 - dense_3_acc_7: 0.7222 - dense_3_acc_8: 0.0683 - dense_3_acc_9: 0.034 - ETA: 1:56 - loss: 21.6430 - dense_3_loss: 2.7899 - dense_3_acc: 5.2632e-04 - dense_3_acc_1: 0.2953 - dense_3_acc_2: 0.1084 - dense_3_acc_3: 0.0611 - dense_3_acc_4: 0.5711 - dense_3_acc_5: 0.1568 - dense_3_acc_6: 0.0274 - dense_3_acc_7: 0.7368 - dense_3_acc_8: 0.0647 - dense_3_acc_9: 0.032 - ETA: 1:50 - loss: 21.5934 - dense_3_loss: 2.7884 - dense_3_acc: 5.0000e-04 - dense_3_acc_1: 0.2980 - dense_3_acc_2: 0.1135 - dense_3_acc_3: 0.0630 - dense_3_acc_4: 0.5425 - dense_3_acc_5: 0.1490 - dense_3_acc_6: 0.0260 - dense_3_acc_7: 0.7500 - dense_3_acc_8: 0.0615 - dense_3_acc_9: 0.031 - ETA: 1:44 - loss: 21.5355 - dense_3_loss: 2.7880 - dense_3_acc: 4.7619e-04 - dense_3_acc_1: 0.3129 - dense_3_acc_2: 0.1205 - dense_3_acc_3: 0.0643 - dense_3_acc_4: 0.5167 - dense_3_acc_5: 0.1419 - dense_3_acc_6: 0.0248 - dense_3_acc_7: 0.7619 - dense_3_acc_8: 0.0586 - dense_3_acc_9: 0.029 - ETA: 1:40 - loss: 21.4950 - dense_3_loss: 2.7837 - dense_3_acc: 4.5455e-04 - dense_3_acc_1: 0.3286 - dense_3_acc_2: 0.1209 - dense_3_acc_3: 0.0664 - dense_3_acc_4: 0.4941 - dense_3_acc_5: 0.1355 - dense_3_acc_6: 0.0236 - dense_3_acc_7: 0.7727 - dense_3_acc_8: 0.0559 - dense_3_acc_9: 0.028 - ETA: 1:35 - loss: 21.4508 - dense_3_loss: 2.7831 - dense_3_acc: 4.3478e-04 - dense_3_acc_1: 0.3374 - dense_3_acc_2: 0.1230 - dense_3_acc_3: 0.0683 - dense_3_acc_4: 0.5161 - dense_3_acc_5: 0.1296 - dense_3_acc_6: 0.0226 - dense_3_acc_7: 0.7826 - dense_3_acc_8: 0.0535 - dense_3_acc_9: 0.032 - ETA: 1:31 - loss: 21.4050 - dense_3_loss: 2.7863 - dense_3_acc: 4.1667e-04 - dense_3_acc_1: 0.3508 - dense_3_acc_2: 0.1317 - dense_3_acc_3: 0.0654 - dense_3_acc_4: 0.5363 - dense_3_acc_5: 0.1242 - dense_3_acc_6: 0.0217 - dense_3_acc_7: 0.7917 - dense_3_acc_8: 0.0629 - dense_3_acc_9: 0.034 - ETA: 1:27 - loss: 21.3566 - dense_3_loss: 2.7875 - dense_3_acc: 4.0000e-04 - dense_3_acc_1: 0.3580 - dense_3_acc_2: 0.1404 - dense_3_acc_3: 0.0628 - dense_3_acc_4: 0.5548 - dense_3_acc_5: 0.1192 - dense_3_acc_6: 0.0208 - dense_3_acc_7: 0.8000 - dense_3_acc_8: 0.0680 - dense_3_acc_9: 0.036 - ETA: 1:23 - loss: 21.3061 - dense_3_loss: 2.7863 - dense_3_acc: 3.8462e-04 - dense_3_acc_1: 0.3708 - dense_3_acc_2: 0.1458 - dense_3_acc_3: 0.0604 - dense_3_acc_4: 0.5719 - dense_3_acc_5: 0.1146 - dense_3_acc_6: 0.0200 - dense_3_acc_7: 0.8077 - dense_3_acc_8: 0.0654 - dense_3_acc_9: 0.037 - ETA: 1:20 - loss: 21.2548 - dense_3_loss: 2.7900 - dense_3_acc: 3.7037e-04 - dense_3_acc_1: 0.3759 - dense_3_acc_2: 0.1541 - dense_3_acc_3: 0.0626 - dense_3_acc_4: 0.5878 - dense_3_acc_5: 0.1104 - dense_3_acc_6: 0.0193 - dense_3_acc_7: 0.8148 - dense_3_acc_8: 0.0630 - dense_3_acc_9: 0.035 - ETA: 1:17 - loss: 21.1994 - dense_3_loss: 2.7934 - dense_3_acc: 3.5714e-04 - dense_3_acc_1: 0.3864 - dense_3_acc_2: 0.1618 - dense_3_acc_3: 0.0646 - dense_3_acc_4: 0.6025 - dense_3_acc_5: 0.1064 - dense_3_acc_6: 0.0186 - dense_3_acc_7: 0.8193 - dense_3_acc_8: 0.0625 - dense_3_acc_9: 0.0357\b\b\b\b\b\b\b\b\b\b\b\b\b\b\b\b\b\b\b\b\b\b\b\b\b\b\b\b\b\b\b\b\b\b\b\b\b\b\b\b\b\b\b\b\b\b\b\b\b\b\b\b\b\b\b\b\b\b\b\b\b\b\b\b\b\b\b\b\b\b\b\b\b\b\b\b\b\b\b\b\b\b\b\b\b\b\b\b\b\b\b\b\b\b\b\b\b\b\b\b\b\b\b\b\b\b\b\b\b\b\b\b\b\b\b\b\b\b\b\b\b\b\b\b\b\b\b\b\b\b\b\b\b\b\b\b\b\b\b\b\b\b\b\b\b\b\b\b\b\b\b\b\b\b\b\b\b\b\b\b\b\b\b\b\b\b\b\b\b\b\b\b\b\b\b\b\b\b\b\b\b\b\b\b\b\b\b\b\b\b\b\b\b\b\b\b\b\b\b\b\b\b\b\b\b\b\b\b\b\b\b\b\b\b\b\b\b\b\b\b\b\b\b\b\b\b\b\b\b\b\b\b\b\b\b\b\b\b\b\b\b\b\b\b\b\b\b\b\b\b\b\b\b\b\b\b\b\b\b\b\b\b\b\b\b\b\b\b\b\b\b\b\b\b\b\b\b\b\b\b\b\b\b\b\b\b\b\b\b\b\b\b\b\b\b\b\b\b\b\b\b\b\b\b\b\b\b\b\b\b\b\b\b\b\b\b\b\b\b\b\b\b\b\b\b\b\b\b\b\b\b\b\b\b\b\b\b"
     ]
    },
    {
     "name": "stdout",
     "output_type": "stream",
     "text": [
      " 5700/10000 [================>.............] - ETA: 1:14 - loss: 21.1406 - dense_3_loss: 2.7893 - dense_3_acc: 3.4483e-04 - dense_3_acc_1: 0.3945 - dense_3_acc_2: 0.1666 - dense_3_acc_3: 0.0641 - dense_3_acc_4: 0.6162 - dense_3_acc_5: 0.1028 - dense_3_acc_6: 0.0183 - dense_3_acc_7: 0.8169 - dense_3_acc_8: 0.0666 - dense_3_acc_9: 0.040 - ETA: 1:11 - loss: 21.0841 - dense_3_loss: 2.7877 - dense_3_acc: 3.3333e-04 - dense_3_acc_1: 0.3997 - dense_3_acc_2: 0.1737 - dense_3_acc_3: 0.0620 - dense_3_acc_4: 0.6290 - dense_3_acc_5: 0.0993 - dense_3_acc_6: 0.0177 - dense_3_acc_7: 0.8110 - dense_3_acc_8: 0.0730 - dense_3_acc_9: 0.044 - ETA: 1:08 - loss: 21.0317 - dense_3_loss: 2.7845 - dense_3_acc: 3.2258e-04 - dense_3_acc_1: 0.4042 - dense_3_acc_2: 0.1800 - dense_3_acc_3: 0.0600 - dense_3_acc_4: 0.6410 - dense_3_acc_5: 0.0961 - dense_3_acc_6: 0.0171 - dense_3_acc_7: 0.8058 - dense_3_acc_8: 0.0774 - dense_3_acc_9: 0.046 - ETA: 1:06 - loss: 20.9703 - dense_3_loss: 2.7791 - dense_3_acc: 3.1250e-04 - dense_3_acc_1: 0.4103 - dense_3_acc_2: 0.1863 - dense_3_acc_3: 0.0581 - dense_3_acc_4: 0.6522 - dense_3_acc_5: 0.0931 - dense_3_acc_6: 0.0166 - dense_3_acc_7: 0.8097 - dense_3_acc_8: 0.0831 - dense_3_acc_9: 0.050 - ETA: 1:04 - loss: 20.9170 - dense_3_loss: 2.7813 - dense_3_acc: 3.0303e-04 - dense_3_acc_1: 0.4170 - dense_3_acc_2: 0.1876 - dense_3_acc_3: 0.0564 - dense_3_acc_4: 0.6627 - dense_3_acc_5: 0.0903 - dense_3_acc_6: 0.0161 - dense_3_acc_7: 0.8130 - dense_3_acc_8: 0.0852 - dense_3_acc_9: 0.051 - ETA: 1:02 - loss: 20.8496 - dense_3_loss: 2.7819 - dense_3_acc: 0.0029 - dense_3_acc_1: 0.4226 - dense_3_acc_2: 0.1912 - dense_3_acc_3: 0.0547 - dense_3_acc_4: 0.6726 - dense_3_acc_5: 0.0876 - dense_3_acc_6: 0.0156 - dense_3_acc_7: 0.8118 - dense_3_acc_8: 0.0897 - dense_3_acc_9: 0.0529    - ETA: 59s - loss: 20.7883 - dense_3_loss: 2.7851 - dense_3_acc: 0.0049 - dense_3_acc_1: 0.4280 - dense_3_acc_2: 0.1954 - dense_3_acc_3: 0.0549 - dense_3_acc_4: 0.6820 - dense_3_acc_5: 0.0851 - dense_3_acc_6: 0.0154 - dense_3_acc_7: 0.8163 - dense_3_acc_8: 0.0886 - dense_3_acc_9: 0.053 - ETA: 57s - loss: 20.7274 - dense_3_loss: 2.7860 - dense_3_acc: 0.0158 - dense_3_acc_1: 0.4317 - dense_3_acc_2: 0.1969 - dense_3_acc_3: 0.0536 - dense_3_acc_4: 0.6908 - dense_3_acc_5: 0.0839 - dense_3_acc_6: 0.0164 - dense_3_acc_7: 0.8011 - dense_3_acc_8: 0.0936 - dense_3_acc_9: 0.05 - ETA: 55s - loss: 20.6579 - dense_3_loss: 2.7830 - dense_3_acc: 0.0314 - dense_3_acc_1: 0.4365 - dense_3_acc_2: 0.1986 - dense_3_acc_3: 0.0522 - dense_3_acc_4: 0.6992 - dense_3_acc_5: 0.0816 - dense_3_acc_6: 0.0168 - dense_3_acc_7: 0.7870 - dense_3_acc_8: 0.1008 - dense_3_acc_9: 0.05 - ETA: 54s - loss: 20.5835 - dense_3_loss: 2.7771 - dense_3_acc: 0.0458 - dense_3_acc_1: 0.4413 - dense_3_acc_2: 0.2045 - dense_3_acc_3: 0.0508 - dense_3_acc_4: 0.7071 - dense_3_acc_5: 0.0795 - dense_3_acc_6: 0.0163 - dense_3_acc_7: 0.7889 - dense_3_acc_8: 0.1032 - dense_3_acc_9: 0.06 - ETA: 52s - loss: 20.5115 - dense_3_loss: 2.7710 - dense_3_acc: 0.0585 - dense_3_acc_1: 0.4438 - dense_3_acc_2: 0.2105 - dense_3_acc_3: 0.0513 - dense_3_acc_4: 0.7146 - dense_3_acc_5: 0.0774 - dense_3_acc_6: 0.0159 - dense_3_acc_7: 0.7944 - dense_3_acc_8: 0.1018 - dense_3_acc_9: 0.06 - ETA: 50s - loss: 20.4331 - dense_3_loss: 2.7654 - dense_3_acc: 0.0705 - dense_3_acc_1: 0.4488 - dense_3_acc_2: 0.2130 - dense_3_acc_3: 0.0500 - dense_3_acc_4: 0.7218 - dense_3_acc_5: 0.0755 - dense_3_acc_6: 0.0155 - dense_3_acc_7: 0.7995 - dense_3_acc_8: 0.0993 - dense_3_acc_9: 0.06 - ETA: 49s - loss: 20.3518 - dense_3_loss: 2.7618 - dense_3_acc: 0.0837 - dense_3_acc_1: 0.4585 - dense_3_acc_2: 0.2156 - dense_3_acc_3: 0.0493 - dense_3_acc_4: 0.7285 - dense_3_acc_5: 0.0763 - dense_3_acc_6: 0.0166 - dense_3_acc_7: 0.7998 - dense_3_acc_8: 0.1061 - dense_3_acc_9: 0.06 - ETA: 47s - loss: 20.2707 - dense_3_loss: 2.7605 - dense_3_acc: 0.0952 - dense_3_acc_1: 0.4626 - dense_3_acc_2: 0.2195 - dense_3_acc_3: 0.0488 - dense_3_acc_4: 0.7350 - dense_3_acc_5: 0.0774 - dense_3_acc_6: 0.0169 - dense_3_acc_7: 0.7988 - dense_3_acc_8: 0.1114 - dense_3_acc_9: 0.06 - ETA: 46s - loss: 20.1835 - dense_3_loss: 2.7598 - dense_3_acc: 0.1093 - dense_3_acc_1: 0.4705 - dense_3_acc_2: 0.2235 - dense_3_acc_3: 0.0484 - dense_3_acc_4: 0.7412 - dense_3_acc_5: 0.0763 - dense_3_acc_6: 0.0167 - dense_3_acc_7: 0.8035 - dense_3_acc_8: 0.1105 - dense_3_acc_9: 0.06 - ETA: 44s - loss: 20.1048 - dense_3_loss: 2.7549 - dense_3_acc: 0.1202 - dense_3_acc_1: 0.4743 - dense_3_acc_2: 0.2261 - dense_3_acc_3: 0.0480 - dense_3_acc_4: 0.7470 - dense_3_acc_5: 0.0755 - dense_3_acc_6: 0.0164 - dense_3_acc_7: 0.8080 - dense_3_acc_8: 0.1114 - dense_3_acc_9: 0.06 - ETA: 43s - loss: 20.0109 - dense_3_loss: 2.7473 - dense_3_acc: 0.1309 - dense_3_acc_1: 0.4807 - dense_3_acc_2: 0.2322 - dense_3_acc_3: 0.0473 - dense_3_acc_4: 0.7527 - dense_3_acc_5: 0.0904 - dense_3_acc_6: 0.0164 - dense_3_acc_7: 0.8122 - dense_3_acc_8: 0.1136 - dense_3_acc_9: 0.06 - ETA: 41s - loss: 19.9221 - dense_3_loss: 2.7446 - dense_3_acc: 0.1411 - dense_3_acc_1: 0.4839 - dense_3_acc_2: 0.2341 - dense_3_acc_3: 0.0487 - dense_3_acc_4: 0.7567 - dense_3_acc_5: 0.1024 - dense_3_acc_6: 0.0185 - dense_3_acc_7: 0.8159 - dense_3_acc_8: 0.1137 - dense_3_acc_9: 0.07 - ETA: 40s - loss: 19.8338 - dense_3_loss: 2.7392 - dense_3_acc: 0.1555 - dense_3_acc_1: 0.4938 - dense_3_acc_2: 0.2370 - dense_3_acc_3: 0.0477 - dense_3_acc_4: 0.7594 - dense_3_acc_5: 0.1179 - dense_3_acc_6: 0.0181 - dense_3_acc_7: 0.8198 - dense_3_acc_8: 0.1196 - dense_3_acc_9: 0.07 - ETA: 39s - loss: 19.7286 - dense_3_loss: 2.7326 - dense_3_acc: 0.1642 - dense_3_acc_1: 0.4994 - dense_3_acc_2: 0.2398 - dense_3_acc_3: 0.0475 - dense_3_acc_4: 0.7644 - dense_3_acc_5: 0.1319 - dense_3_acc_6: 0.0181 - dense_3_acc_7: 0.8235 - dense_3_acc_8: 0.1269 - dense_3_acc_9: 0.07 - ETA: 38s - loss: 19.6380 - dense_3_loss: 2.7301 - dense_3_acc: 0.1737 - dense_3_acc_1: 0.5035 - dense_3_acc_2: 0.2414 - dense_3_acc_3: 0.0482 - dense_3_acc_4: 0.7692 - dense_3_acc_5: 0.1445 - dense_3_acc_6: 0.0202 - dense_3_acc_7: 0.8271 - dense_3_acc_8: 0.1243 - dense_3_acc_9: 0.07 - ETA: 36s - loss: 19.5303 - dense_3_loss: 2.7229 - dense_3_acc: 0.1850 - dense_3_acc_1: 0.5126 - dense_3_acc_2: 0.2448 - dense_3_acc_3: 0.0472 - dense_3_acc_4: 0.7738 - dense_3_acc_5: 0.1568 - dense_3_acc_6: 0.0200 - dense_3_acc_7: 0.8306 - dense_3_acc_8: 0.1314 - dense_3_acc_9: 0.07 - ETA: 35s - loss: 19.4241 - dense_3_loss: 2.7141 - dense_3_acc: 0.1976 - dense_3_acc_1: 0.5210 - dense_3_acc_2: 0.2473 - dense_3_acc_3: 0.0463 - dense_3_acc_4: 0.7782 - dense_3_acc_5: 0.1680 - dense_3_acc_6: 0.0198 - dense_3_acc_7: 0.8339 - dense_3_acc_8: 0.1392 - dense_3_acc_9: 0.07 - ETA: 34s - loss: 19.3071 - dense_3_loss: 2.7072 - dense_3_acc: 0.2094 - dense_3_acc_1: 0.5265 - dense_3_acc_2: 0.2487 - dense_3_acc_3: 0.0467 - dense_3_acc_4: 0.7825 - dense_3_acc_5: 0.1812 - dense_3_acc_6: 0.0212 - dense_3_acc_7: 0.8371 - dense_3_acc_8: 0.1454 - dense_3_acc_9: 0.07 - ETA: 33s - loss: 19.1989 - dense_3_loss: 2.7059 - dense_3_acc: 0.2211 - dense_3_acc_1: 0.5343 - dense_3_acc_2: 0.2511 - dense_3_acc_3: 0.0477 - dense_3_acc_4: 0.7866 - dense_3_acc_5: 0.1936 - dense_3_acc_6: 0.0217 - dense_3_acc_7: 0.8402 - dense_3_acc_8: 0.1508 - dense_3_acc_9: 0.07 - ETA: 32s - loss: 19.0855 - dense_3_loss: 2.6971 - dense_3_acc: 0.2281 - dense_3_acc_1: 0.5383 - dense_3_acc_2: 0.2511 - dense_3_acc_3: 0.0483 - dense_3_acc_4: 0.7906 - dense_3_acc_5: 0.2061 - dense_3_acc_6: 0.0237 - dense_3_acc_7: 0.8431 - dense_3_acc_8: 0.1550 - dense_3_acc_9: 0.08 - ETA: 31s - loss: 18.9701 - dense_3_loss: 2.6901 - dense_3_acc: 0.2364 - dense_3_acc_1: 0.5424 - dense_3_acc_2: 0.2515 - dense_3_acc_3: 0.0489 - dense_3_acc_4: 0.7944 - dense_3_acc_5: 0.2156 - dense_3_acc_6: 0.0242 - dense_3_acc_7: 0.8460 - dense_3_acc_8: 0.1589 - dense_3_acc_9: 0.08 - ETA: 30s - loss: 18.8548 - dense_3_loss: 2.6834 - dense_3_acc: 0.2434 - dense_3_acc_1: 0.5455 - dense_3_acc_2: 0.2539 - dense_3_acc_3: 0.0505 - dense_3_acc_4: 0.7980 - dense_3_acc_5: 0.2252 - dense_3_acc_6: 0.0246 - dense_3_acc_7: 0.8488 - dense_3_acc_8: 0.1634 - dense_3_acc_9: 0.08 - ETA: 29s - loss: 18.7374 - dense_3_loss: 2.6751 - dense_3_acc: 0.2542 - dense_3_acc_1: 0.5519 - dense_3_acc_2: 0.2554 - dense_3_acc_3: 0.0518 - dense_3_acc_4: 0.8016 - dense_3_acc_5: 0.2351 - dense_3_acc_6: 0.0272 - dense_3_acc_7: 0.8514 - dense_3_acc_8: 0.1693 - dense_3_acc_9: 0.0846"
     ]
    },
    {
     "name": "stdout",
     "output_type": "stream",
     "text": [
      " 8600/10000 [========================>.....] - ETA: 28s - loss: 18.6252 - dense_3_loss: 2.6683 - dense_3_acc: 0.2657 - dense_3_acc_1: 0.5586 - dense_3_acc_2: 0.2572 - dense_3_acc_3: 0.0533 - dense_3_acc_4: 0.8050 - dense_3_acc_5: 0.2441 - dense_3_acc_6: 0.0284 - dense_3_acc_7: 0.8540 - dense_3_acc_8: 0.1724 - dense_3_acc_9: 0.08 - ETA: 27s - loss: 18.5096 - dense_3_loss: 2.6605 - dense_3_acc: 0.2759 - dense_3_acc_1: 0.5644 - dense_3_acc_2: 0.2581 - dense_3_acc_3: 0.0542 - dense_3_acc_4: 0.8083 - dense_3_acc_5: 0.2537 - dense_3_acc_6: 0.0312 - dense_3_acc_7: 0.8564 - dense_3_acc_8: 0.1766 - dense_3_acc_9: 0.08 - ETA: 26s - loss: 18.3964 - dense_3_loss: 2.6539 - dense_3_acc: 0.2847 - dense_3_acc_1: 0.5712 - dense_3_acc_2: 0.2608 - dense_3_acc_3: 0.0550 - dense_3_acc_4: 0.8115 - dense_3_acc_5: 0.2623 - dense_3_acc_6: 0.0328 - dense_3_acc_7: 0.8588 - dense_3_acc_8: 0.1798 - dense_3_acc_9: 0.08 - ETA: 25s - loss: 18.2789 - dense_3_loss: 2.6477 - dense_3_acc: 0.2928 - dense_3_acc_1: 0.5770 - dense_3_acc_2: 0.2626 - dense_3_acc_3: 0.0559 - dense_3_acc_4: 0.8146 - dense_3_acc_5: 0.2705 - dense_3_acc_6: 0.0348 - dense_3_acc_7: 0.8611 - dense_3_acc_8: 0.1828 - dense_3_acc_9: 0.08 - ETA: 24s - loss: 18.1716 - dense_3_loss: 2.6411 - dense_3_acc: 0.3015 - dense_3_acc_1: 0.5826 - dense_3_acc_2: 0.2653 - dense_3_acc_3: 0.0571 - dense_3_acc_4: 0.8176 - dense_3_acc_5: 0.2785 - dense_3_acc_6: 0.0361 - dense_3_acc_7: 0.8634 - dense_3_acc_8: 0.1834 - dense_3_acc_9: 0.09 - ETA: 24s - loss: 18.0614 - dense_3_loss: 2.6345 - dense_3_acc: 0.3084 - dense_3_acc_1: 0.5871 - dense_3_acc_2: 0.2681 - dense_3_acc_3: 0.0584 - dense_3_acc_4: 0.8205 - dense_3_acc_5: 0.2862 - dense_3_acc_6: 0.0381 - dense_3_acc_7: 0.8656 - dense_3_acc_8: 0.1870 - dense_3_acc_9: 0.09 - ETA: 23s - loss: 17.9495 - dense_3_loss: 2.6291 - dense_3_acc: 0.3177 - dense_3_acc_1: 0.5928 - dense_3_acc_2: 0.2703 - dense_3_acc_3: 0.0597 - dense_3_acc_4: 0.8233 - dense_3_acc_5: 0.2950 - dense_3_acc_6: 0.0411 - dense_3_acc_7: 0.8677 - dense_3_acc_8: 0.1923 - dense_3_acc_9: 0.09 - ETA: 22s - loss: 17.8499 - dense_3_loss: 2.6242 - dense_3_acc: 0.3274 - dense_3_acc_1: 0.5983 - dense_3_acc_2: 0.2702 - dense_3_acc_3: 0.0608 - dense_3_acc_4: 0.8260 - dense_3_acc_5: 0.3037 - dense_3_acc_6: 0.0434 - dense_3_acc_7: 0.8697 - dense_3_acc_8: 0.1962 - dense_3_acc_9: 0.09 - ETA: 21s - loss: 17.7450 - dense_3_loss: 2.6194 - dense_3_acc: 0.3370 - dense_3_acc_1: 0.6035 - dense_3_acc_2: 0.2712 - dense_3_acc_3: 0.0611 - dense_3_acc_4: 0.8286 - dense_3_acc_5: 0.3114 - dense_3_acc_6: 0.0477 - dense_3_acc_7: 0.8717 - dense_3_acc_8: 0.1992 - dense_3_acc_9: 0.09 - ETA: 20s - loss: 17.6422 - dense_3_loss: 2.6145 - dense_3_acc: 0.3448 - dense_3_acc_1: 0.6079 - dense_3_acc_2: 0.2745 - dense_3_acc_3: 0.0624 - dense_3_acc_4: 0.8312 - dense_3_acc_5: 0.3194 - dense_3_acc_6: 0.0504 - dense_3_acc_7: 0.8736 - dense_3_acc_8: 0.2034 - dense_3_acc_9: 0.09 - ETA: 19s - loss: 17.5382 - dense_3_loss: 2.6100 - dense_3_acc: 0.3516 - dense_3_acc_1: 0.6125 - dense_3_acc_2: 0.2763 - dense_3_acc_3: 0.0638 - dense_3_acc_4: 0.8337 - dense_3_acc_5: 0.3276 - dense_3_acc_6: 0.0529 - dense_3_acc_7: 0.8754 - dense_3_acc_8: 0.2068 - dense_3_acc_9: 0.09 - ETA: 19s - loss: 17.4403 - dense_3_loss: 2.6031 - dense_3_acc: 0.3588 - dense_3_acc_1: 0.6167 - dense_3_acc_2: 0.2775 - dense_3_acc_3: 0.0652 - dense_3_acc_4: 0.8361 - dense_3_acc_5: 0.3351 - dense_3_acc_6: 0.0548 - dense_3_acc_7: 0.8772 - dense_3_acc_8: 0.2093 - dense_3_acc_9: 0.09 - ETA: 18s - loss: 17.3434 - dense_3_loss: 2.5973 - dense_3_acc: 0.3660 - dense_3_acc_1: 0.6214 - dense_3_acc_2: 0.2800 - dense_3_acc_3: 0.0663 - dense_3_acc_4: 0.8384 - dense_3_acc_5: 0.3429 - dense_3_acc_6: 0.0567 - dense_3_acc_7: 0.8790 - dense_3_acc_8: 0.2116 - dense_3_acc_9: 0.09 - ETA: 17s - loss: 17.2466 - dense_3_loss: 2.5937 - dense_3_acc: 0.3720 - dense_3_acc_1: 0.6259 - dense_3_acc_2: 0.2820 - dense_3_acc_3: 0.0677 - dense_3_acc_4: 0.8407 - dense_3_acc_5: 0.3500 - dense_3_acc_6: 0.0587 - dense_3_acc_7: 0.8807 - dense_3_acc_8: 0.2169 - dense_3_acc_9: 0.09 - ETA: 16s - loss: 17.1529 - dense_3_loss: 2.5893 - dense_3_acc: 0.3796 - dense_3_acc_1: 0.6303 - dense_3_acc_2: 0.2835 - dense_3_acc_3: 0.0685 - dense_3_acc_4: 0.8429 - dense_3_acc_5: 0.3575 - dense_3_acc_6: 0.0607 - dense_3_acc_7: 0.8824 - dense_3_acc_8: 0.2189 - dense_3_acc_9: 0.09 - ETA: 16s - loss: 17.0620 - dense_3_loss: 2.5845 - dense_3_acc: 0.3877 - dense_3_acc_1: 0.6347 - dense_3_acc_2: 0.2845 - dense_3_acc_3: 0.0699 - dense_3_acc_4: 0.8451 - dense_3_acc_5: 0.3630 - dense_3_acc_6: 0.0626 - dense_3_acc_7: 0.8840 - dense_3_acc_8: 0.2204 - dense_3_acc_9: 0.09 - ETA: 15s - loss: 16.9727 - dense_3_loss: 2.5783 - dense_3_acc: 0.3951 - dense_3_acc_1: 0.6384 - dense_3_acc_2: 0.2850 - dense_3_acc_3: 0.0708 - dense_3_acc_4: 0.8472 - dense_3_acc_5: 0.3704 - dense_3_acc_6: 0.0650 - dense_3_acc_7: 0.8855 - dense_3_acc_8: 0.2226 - dense_3_acc_9: 0.10 - ETA: 14s - loss: 16.8848 - dense_3_loss: 2.5747 - dense_3_acc: 0.4015 - dense_3_acc_1: 0.6421 - dense_3_acc_2: 0.2877 - dense_3_acc_3: 0.0716 - dense_3_acc_4: 0.8492 - dense_3_acc_5: 0.3764 - dense_3_acc_6: 0.0673 - dense_3_acc_7: 0.8871 - dense_3_acc_8: 0.2244 - dense_3_acc_9: 0.10 - ETA: 14s - loss: 16.7957 - dense_3_loss: 2.5706 - dense_3_acc: 0.4082 - dense_3_acc_1: 0.6462 - dense_3_acc_2: 0.2897 - dense_3_acc_3: 0.0724 - dense_3_acc_4: 0.8512 - dense_3_acc_5: 0.3828 - dense_3_acc_6: 0.0701 - dense_3_acc_7: 0.8886 - dense_3_acc_8: 0.2266 - dense_3_acc_9: 0.10 - ETA: 13s - loss: 16.7055 - dense_3_loss: 2.5661 - dense_3_acc: 0.4153 - dense_3_acc_1: 0.6500 - dense_3_acc_2: 0.2925 - dense_3_acc_3: 0.0739 - dense_3_acc_4: 0.8531 - dense_3_acc_5: 0.3882 - dense_3_acc_6: 0.0731 - dense_3_acc_7: 0.8900 - dense_3_acc_8: 0.2299 - dense_3_acc_9: 0.10 - ETA: 12s - loss: 16.6205 - dense_3_loss: 2.5613 - dense_3_acc: 0.4215 - dense_3_acc_1: 0.6531 - dense_3_acc_2: 0.2942 - dense_3_acc_3: 0.0751 - dense_3_acc_4: 0.8550 - dense_3_acc_5: 0.3946 - dense_3_acc_6: 0.0756 - dense_3_acc_7: 0.8914 - dense_3_acc_8: 0.2321 - dense_3_acc_9: 0.10 - ETA: 12s - loss: 16.5357 - dense_3_loss: 2.5567 - dense_3_acc: 0.4276 - dense_3_acc_1: 0.6567 - dense_3_acc_2: 0.2958 - dense_3_acc_3: 0.0759 - dense_3_acc_4: 0.8568 - dense_3_acc_5: 0.4006 - dense_3_acc_6: 0.0784 - dense_3_acc_7: 0.8928 - dense_3_acc_8: 0.2343 - dense_3_acc_9: 0.10 - ETA: 11s - loss: 16.4512 - dense_3_loss: 2.5521 - dense_3_acc: 0.4335 - dense_3_acc_1: 0.6603 - dense_3_acc_2: 0.2971 - dense_3_acc_3: 0.0770 - dense_3_acc_4: 0.8586 - dense_3_acc_5: 0.4069 - dense_3_acc_6: 0.0815 - dense_3_acc_7: 0.8941 - dense_3_acc_8: 0.2370 - dense_3_acc_9: 0.10 - ETA: 10s - loss: 16.3724 - dense_3_loss: 2.5479 - dense_3_acc: 0.4391 - dense_3_acc_1: 0.6635 - dense_3_acc_2: 0.2989 - dense_3_acc_3: 0.0783 - dense_3_acc_4: 0.8604 - dense_3_acc_5: 0.4132 - dense_3_acc_6: 0.0841 - dense_3_acc_7: 0.8954 - dense_3_acc_8: 0.2399 - dense_3_acc_9: 0.10 - ETA: 10s - loss: 16.2925 - dense_3_loss: 2.5440 - dense_3_acc: 0.4452 - dense_3_acc_1: 0.6672 - dense_3_acc_2: 0.3005 - dense_3_acc_3: 0.0788 - dense_3_acc_4: 0.8621 - dense_3_acc_5: 0.4185 - dense_3_acc_6: 0.0863 - dense_3_acc_7: 0.8967 - dense_3_acc_8: 0.2418 - dense_3_acc_9: 0.10 - ETA: 9s - loss: 16.2124 - dense_3_loss: 2.5394 - dense_3_acc: 0.4511 - dense_3_acc_1: 0.6710 - dense_3_acc_2: 0.3025 - dense_3_acc_3: 0.0796 - dense_3_acc_4: 0.8637 - dense_3_acc_5: 0.4240 - dense_3_acc_6: 0.0884 - dense_3_acc_7: 0.8980 - dense_3_acc_8: 0.2442 - dense_3_acc_9: 0.1067 - ETA: 8s - loss: 16.1364 - dense_3_loss: 2.5357 - dense_3_acc: 0.4560 - dense_3_acc_1: 0.6737 - dense_3_acc_2: 0.3045 - dense_3_acc_3: 0.0805 - dense_3_acc_4: 0.8654 - dense_3_acc_5: 0.4289 - dense_3_acc_6: 0.0905 - dense_3_acc_7: 0.8992 - dense_3_acc_8: 0.2469 - dense_3_acc_9: 0.107 - ETA: 8s - loss: 16.0600 - dense_3_loss: 2.5327 - dense_3_acc: 0.4613 - dense_3_acc_1: 0.6769 - dense_3_acc_2: 0.3068 - dense_3_acc_3: 0.0818 - dense_3_acc_4: 0.8669 - dense_3_acc_5: 0.4339 - dense_3_acc_6: 0.0922 - dense_3_acc_7: 0.9004 - dense_3_acc_8: 0.2499 - dense_3_acc_9: 0.107 - ETA: 7s - loss: 15.9853 - dense_3_loss: 2.5281 - dense_3_acc: 0.4672 - dense_3_acc_1: 0.6803 - dense_3_acc_2: 0.3087 - dense_3_acc_3: 0.0827 - dense_3_acc_4: 0.8685 - dense_3_acc_5: 0.4385 - dense_3_acc_6: 0.0941 - dense_3_acc_7: 0.9015 - dense_3_acc_8: 0.2528 - dense_3_acc_9: 0.1080"
     ]
    },
    {
     "name": "stdout",
     "output_type": "stream",
     "text": [
      "10000/10000 [==============================] - ETA: 7s - loss: 15.9129 - dense_3_loss: 2.5244 - dense_3_acc: 0.4725 - dense_3_acc_1: 0.6833 - dense_3_acc_2: 0.3101 - dense_3_acc_3: 0.0846 - dense_3_acc_4: 0.8700 - dense_3_acc_5: 0.4439 - dense_3_acc_6: 0.0966 - dense_3_acc_7: 0.9026 - dense_3_acc_8: 0.2551 - dense_3_acc_9: 0.108 - ETA: 6s - loss: 15.8399 - dense_3_loss: 2.5208 - dense_3_acc: 0.4778 - dense_3_acc_1: 0.6865 - dense_3_acc_2: 0.3122 - dense_3_acc_3: 0.0862 - dense_3_acc_4: 0.8715 - dense_3_acc_5: 0.4492 - dense_3_acc_6: 0.0986 - dense_3_acc_7: 0.9038 - dense_3_acc_8: 0.2564 - dense_3_acc_9: 0.109 - ETA: 6s - loss: 15.7686 - dense_3_loss: 2.5164 - dense_3_acc: 0.4834 - dense_3_acc_1: 0.6899 - dense_3_acc_2: 0.3149 - dense_3_acc_3: 0.0866 - dense_3_acc_4: 0.8729 - dense_3_acc_5: 0.4540 - dense_3_acc_6: 0.0999 - dense_3_acc_7: 0.9048 - dense_3_acc_8: 0.2579 - dense_3_acc_9: 0.110 - ETA: 5s - loss: 15.6996 - dense_3_loss: 2.5128 - dense_3_acc: 0.4883 - dense_3_acc_1: 0.6927 - dense_3_acc_2: 0.3166 - dense_3_acc_3: 0.0872 - dense_3_acc_4: 0.8742 - dense_3_acc_5: 0.4587 - dense_3_acc_6: 0.1023 - dense_3_acc_7: 0.9059 - dense_3_acc_8: 0.2593 - dense_3_acc_9: 0.111 - ETA: 4s - loss: 15.6303 - dense_3_loss: 2.5089 - dense_3_acc: 0.4936 - dense_3_acc_1: 0.6955 - dense_3_acc_2: 0.3184 - dense_3_acc_3: 0.0889 - dense_3_acc_4: 0.8756 - dense_3_acc_5: 0.4635 - dense_3_acc_6: 0.1041 - dense_3_acc_7: 0.9069 - dense_3_acc_8: 0.2614 - dense_3_acc_9: 0.112 - ETA: 4s - loss: 15.5616 - dense_3_loss: 2.5062 - dense_3_acc: 0.4984 - dense_3_acc_1: 0.6983 - dense_3_acc_2: 0.3201 - dense_3_acc_3: 0.0903 - dense_3_acc_4: 0.8770 - dense_3_acc_5: 0.4685 - dense_3_acc_6: 0.1070 - dense_3_acc_7: 0.9079 - dense_3_acc_8: 0.2642 - dense_3_acc_9: 0.112 - ETA: 3s - loss: 15.4926 - dense_3_loss: 2.5024 - dense_3_acc: 0.5032 - dense_3_acc_1: 0.7012 - dense_3_acc_2: 0.3229 - dense_3_acc_3: 0.0915 - dense_3_acc_4: 0.8783 - dense_3_acc_5: 0.4726 - dense_3_acc_6: 0.1096 - dense_3_acc_7: 0.9089 - dense_3_acc_8: 0.2672 - dense_3_acc_9: 0.114 - ETA: 3s - loss: 15.4284 - dense_3_loss: 2.4984 - dense_3_acc: 0.5071 - dense_3_acc_1: 0.7030 - dense_3_acc_2: 0.3239 - dense_3_acc_3: 0.0930 - dense_3_acc_4: 0.8796 - dense_3_acc_5: 0.4774 - dense_3_acc_6: 0.1118 - dense_3_acc_7: 0.9099 - dense_3_acc_8: 0.2697 - dense_3_acc_9: 0.115 - ETA: 2s - loss: 15.3621 - dense_3_loss: 2.4952 - dense_3_acc: 0.5119 - dense_3_acc_1: 0.7058 - dense_3_acc_2: 0.3258 - dense_3_acc_3: 0.0941 - dense_3_acc_4: 0.8808 - dense_3_acc_5: 0.4814 - dense_3_acc_6: 0.1157 - dense_3_acc_7: 0.9108 - dense_3_acc_8: 0.2717 - dense_3_acc_9: 0.116 - ETA: 2s - loss: 15.3005 - dense_3_loss: 2.4923 - dense_3_acc: 0.5166 - dense_3_acc_1: 0.7086 - dense_3_acc_2: 0.3274 - dense_3_acc_3: 0.0947 - dense_3_acc_4: 0.8821 - dense_3_acc_5: 0.4857 - dense_3_acc_6: 0.1179 - dense_3_acc_7: 0.9118 - dense_3_acc_8: 0.2731 - dense_3_acc_9: 0.116 - ETA: 1s - loss: 15.2365 - dense_3_loss: 2.4897 - dense_3_acc: 0.5212 - dense_3_acc_1: 0.7113 - dense_3_acc_2: 0.3299 - dense_3_acc_3: 0.0967 - dense_3_acc_4: 0.8833 - dense_3_acc_5: 0.4894 - dense_3_acc_6: 0.1199 - dense_3_acc_7: 0.9127 - dense_3_acc_8: 0.2754 - dense_3_acc_9: 0.117 - ETA: 1s - loss: 15.1737 - dense_3_loss: 2.4869 - dense_3_acc: 0.5257 - dense_3_acc_1: 0.7141 - dense_3_acc_2: 0.3327 - dense_3_acc_3: 0.0978 - dense_3_acc_4: 0.8845 - dense_3_acc_5: 0.4939 - dense_3_acc_6: 0.1227 - dense_3_acc_7: 0.9136 - dense_3_acc_8: 0.2777 - dense_3_acc_9: 0.117 - ETA: 0s - loss: 15.1129 - dense_3_loss: 2.4834 - dense_3_acc: 0.5303 - dense_3_acc_1: 0.7167 - dense_3_acc_2: 0.3342 - dense_3_acc_3: 0.0983 - dense_3_acc_4: 0.8857 - dense_3_acc_5: 0.4979 - dense_3_acc_6: 0.1252 - dense_3_acc_7: 0.9144 - dense_3_acc_8: 0.2789 - dense_3_acc_9: 0.118 - 52s 5ms/step - loss: 15.0525 - dense_3_loss: 2.4797 - dense_3_acc: 0.5347 - dense_3_acc_1: 0.7192 - dense_3_acc_2: 0.3365 - dense_3_acc_3: 0.0988 - dense_3_acc_4: 0.8868 - dense_3_acc_5: 0.5021 - dense_3_acc_6: 0.1269 - dense_3_acc_7: 0.9153 - dense_3_acc_8: 0.2808 - dense_3_acc_9: 0.1194\n"
     ]
    },
    {
     "data": {
      "text/plain": [
       "<keras.callbacks.History at 0x24d76906048>"
      ]
     },
     "execution_count": 32,
     "metadata": {},
     "output_type": "execute_result"
    }
   ],
   "source": [
    "model.fit([Xoh, s0, c0], outputs, epochs=1, batch_size=100)"
   ]
  },
  {
   "cell_type": "markdown",
   "metadata": {},
   "source": [
    "While training you can see the loss as well as the accuracy on each of the 10 positions of the output. The table below gives you an example of what the accuracies could be if the batch had 2 examples: \n",
    "\n",
    "<img src=\"images/table.png\" style=\"width:700;height:200px;\"> <br>\n",
    "<caption><center>Thus, `dense_2_acc_8: 0.89` means that you are predicting the 7th character of the output correctly 89% of the time in the current batch of data. </center></caption>\n",
    "\n",
    "\n",
    "We have run this model for longer, and saved the weights. Run the next cell to load our weights. (By training a model for several minutes, you should be able to obtain a model of similar accuracy, but loading our model will save you time.) "
   ]
  },
  {
   "cell_type": "code",
   "execution_count": 34,
   "metadata": {},
   "outputs": [],
   "source": [
    "model.load_weights('models/model_kiank.h5')"
   ]
  },
  {
   "cell_type": "markdown",
   "metadata": {},
   "source": [
    "You can now see the results on new examples."
   ]
  },
  {
   "cell_type": "code",
   "execution_count": 43,
   "metadata": {},
   "outputs": [
    {
     "name": "stdout",
     "output_type": "stream",
     "text": [
      "source: 3 May 1979\n",
      "output: 1979-05-03\n",
      "source: 5 April 09\n",
      "output: 2009-04-05\n",
      "source: 21th of August 2016\n",
      "output: 2016-08-21\n",
      "source: Tue 10 Jul 2007\n",
      "output: 2007-07-10\n",
      "source: Saturday May 9 2018\n",
      "output: 2018-05-09\n",
      "source: March 3 2001\n",
      "output: 2001-03-03\n",
      "source: March 3rd 2001\n",
      "output: 2001-03-03\n",
      "source: 1 March 2001\n",
      "output: 2001-03-01\n"
     ]
    }
   ],
   "source": [
    "EXAMPLES = ['3 May 1979', '5 April 09', '21th of August 2016', 'Tue 10 Jul 2007', 'Saturday May 9 2018', 'March 3 2001', 'March 3rd 2001', '1 March 2001']\n",
    "for example in EXAMPLES:\n",
    "    \n",
    "    source = string_to_int(example, Tx, human_vocab)\n",
    "    source = np.array(list(map(lambda x: to_categorical(x, num_classes=len(human_vocab)), source)))\n",
    "    source = source[np.newaxis, :]\n",
    "    prediction = model.predict([source, s0, c0])\n",
    "    prediction = np.argmax(prediction, axis = -1)\n",
    "    output = [inv_machine_vocab[int(i)] for i in prediction]\n",
    "    \n",
    "    print(\"source:\", example)\n",
    "    print(\"output:\", ''.join(output))"
   ]
  },
  {
   "cell_type": "markdown",
   "metadata": {},
   "source": [
    "You can also change these examples to test with your own examples. The next part will give you a better sense on what the attention mechanism is doing--i.e., what part of the input the network is paying attention to when generating a particular output character. "
   ]
  },
  {
   "cell_type": "markdown",
   "metadata": {},
   "source": [
    "## 3 - Visualizing Attention (Optional / Ungraded)\n",
    "\n",
    "Since the problem has a fixed output length of 10, it is also possible to carry out this task using 10 different softmax units to generate the 10 characters of the output. But one advantage of the attention model is that each part of the output (say the month) knows it needs to depend only on a small part of the input (the characters in the input giving the month). We can  visualize what part of the output is looking at what part of the input.\n",
    "\n",
    "Consider the task of translating \"Saturday 9 May 2018\" to \"2018-05-09\". If we visualize the computed $\\alpha^{\\langle t, t' \\rangle}$ we get this: \n",
    "\n",
    "<img src=\"images/date_attention.png\" style=\"width:600;height:300px;\"> <br>\n",
    "<caption><center> **Figure 8**: Full Attention Map</center></caption>\n",
    "\n",
    "Notice how the output ignores the \"Saturday\" portion of the input. None of the output timesteps are paying much attention to that portion of the input. We see also that 9 has been translated as 09 and May has been correctly translated into 05, with the output paying attention to the parts of the input it needs to to make the translation. The year mostly requires it to pay attention to the input's \"18\" in order to generate \"2018.\" \n",
    "\n"
   ]
  },
  {
   "cell_type": "markdown",
   "metadata": {},
   "source": [
    "### 3.1 - Getting the activations from the network\n",
    "\n",
    "Lets now visualize the attention values in your network. We'll propagate an example through the network, then visualize the values of $\\alpha^{\\langle t, t' \\rangle}$. \n",
    "\n",
    "To figure out where the attention values are located, let's start by printing a summary of the model ."
   ]
  },
  {
   "cell_type": "code",
   "execution_count": 38,
   "metadata": {},
   "outputs": [
    {
     "name": "stdout",
     "output_type": "stream",
     "text": [
      "__________________________________________________________________________________________________\n",
      "Layer (type)                    Output Shape         Param #     Connected to                     \n",
      "==================================================================================================\n",
      "input_7 (InputLayer)            (None, 30, 37)       0                                            \n",
      "__________________________________________________________________________________________________\n",
      "s0 (InputLayer)                 (None, 128)          0                                            \n",
      "__________________________________________________________________________________________________\n",
      "bidirectional_6 (Bidirectional) (None, 30, 128)      52224       input_7[0][0]                    \n",
      "__________________________________________________________________________________________________\n",
      "repeat_vector_1 (RepeatVector)  (None, 30, 128)      0           s0[0][0]                         \n",
      "                                                                 lstm_8[0][0]                     \n",
      "                                                                 lstm_8[1][0]                     \n",
      "                                                                 lstm_8[2][0]                     \n",
      "                                                                 lstm_8[3][0]                     \n",
      "                                                                 lstm_8[4][0]                     \n",
      "                                                                 lstm_8[5][0]                     \n",
      "                                                                 lstm_8[6][0]                     \n",
      "                                                                 lstm_8[7][0]                     \n",
      "                                                                 lstm_8[8][0]                     \n",
      "__________________________________________________________________________________________________\n",
      "concatenate_1 (Concatenate)     (None, 30, 256)      0           bidirectional_6[0][0]            \n",
      "                                                                 repeat_vector_1[3][0]            \n",
      "                                                                 bidirectional_6[0][0]            \n",
      "                                                                 repeat_vector_1[4][0]            \n",
      "                                                                 bidirectional_6[0][0]            \n",
      "                                                                 repeat_vector_1[5][0]            \n",
      "                                                                 bidirectional_6[0][0]            \n",
      "                                                                 repeat_vector_1[6][0]            \n",
      "                                                                 bidirectional_6[0][0]            \n",
      "                                                                 repeat_vector_1[7][0]            \n",
      "                                                                 bidirectional_6[0][0]            \n",
      "                                                                 repeat_vector_1[8][0]            \n",
      "                                                                 bidirectional_6[0][0]            \n",
      "                                                                 repeat_vector_1[9][0]            \n",
      "                                                                 bidirectional_6[0][0]            \n",
      "                                                                 repeat_vector_1[10][0]           \n",
      "                                                                 bidirectional_6[0][0]            \n",
      "                                                                 repeat_vector_1[11][0]           \n",
      "                                                                 bidirectional_6[0][0]            \n",
      "                                                                 repeat_vector_1[12][0]           \n",
      "__________________________________________________________________________________________________\n",
      "dense_1 (Dense)                 (None, 30, 1)        257         concatenate_1[3][0]              \n",
      "                                                                 concatenate_1[4][0]              \n",
      "                                                                 concatenate_1[5][0]              \n",
      "                                                                 concatenate_1[6][0]              \n",
      "                                                                 concatenate_1[7][0]              \n",
      "                                                                 concatenate_1[8][0]              \n",
      "                                                                 concatenate_1[9][0]              \n",
      "                                                                 concatenate_1[10][0]             \n",
      "                                                                 concatenate_1[11][0]             \n",
      "                                                                 concatenate_1[12][0]             \n",
      "__________________________________________________________________________________________________\n",
      "attention_weights (Activation)  (None, 30, 1)        0           dense_1[3][0]                    \n",
      "                                                                 dense_1[4][0]                    \n",
      "                                                                 dense_1[5][0]                    \n",
      "                                                                 dense_1[6][0]                    \n",
      "                                                                 dense_1[7][0]                    \n",
      "                                                                 dense_1[8][0]                    \n",
      "                                                                 dense_1[9][0]                    \n",
      "                                                                 dense_1[10][0]                   \n",
      "                                                                 dense_1[11][0]                   \n",
      "                                                                 dense_1[12][0]                   \n",
      "__________________________________________________________________________________________________\n",
      "dot_1 (Dot)                     (None, 1, 128)       0           attention_weights[3][0]          \n",
      "                                                                 bidirectional_6[0][0]            \n",
      "                                                                 attention_weights[4][0]          \n",
      "                                                                 bidirectional_6[0][0]            \n",
      "                                                                 attention_weights[5][0]          \n",
      "                                                                 bidirectional_6[0][0]            \n",
      "                                                                 attention_weights[6][0]          \n",
      "                                                                 bidirectional_6[0][0]            \n",
      "                                                                 attention_weights[7][0]          \n",
      "                                                                 bidirectional_6[0][0]            \n",
      "                                                                 attention_weights[8][0]          \n",
      "                                                                 bidirectional_6[0][0]            \n",
      "                                                                 attention_weights[9][0]          \n",
      "                                                                 bidirectional_6[0][0]            \n",
      "                                                                 attention_weights[10][0]         \n",
      "                                                                 bidirectional_6[0][0]            \n",
      "                                                                 attention_weights[11][0]         \n",
      "                                                                 bidirectional_6[0][0]            \n",
      "                                                                 attention_weights[12][0]         \n"
     ]
    },
    {
     "name": "stdout",
     "output_type": "stream",
     "text": [
      "                                                                 bidirectional_6[0][0]            \n",
      "__________________________________________________________________________________________________\n",
      "c0 (InputLayer)                 (None, 128)          0                                            \n",
      "__________________________________________________________________________________________________\n",
      "lstm_8 (LSTM)                   [(None, 128), (None, 131584      dot_1[2][0]                      \n",
      "                                                                 s0[0][0]                         \n",
      "                                                                 c0[0][0]                         \n",
      "                                                                 dot_1[3][0]                      \n",
      "                                                                 lstm_8[0][0]                     \n",
      "                                                                 lstm_8[0][2]                     \n",
      "                                                                 dot_1[4][0]                      \n",
      "                                                                 lstm_8[1][0]                     \n",
      "                                                                 lstm_8[1][2]                     \n",
      "                                                                 dot_1[5][0]                      \n",
      "                                                                 lstm_8[2][0]                     \n",
      "                                                                 lstm_8[2][2]                     \n",
      "                                                                 dot_1[6][0]                      \n",
      "                                                                 lstm_8[3][0]                     \n",
      "                                                                 lstm_8[3][2]                     \n",
      "                                                                 dot_1[7][0]                      \n",
      "                                                                 lstm_8[4][0]                     \n",
      "                                                                 lstm_8[4][2]                     \n",
      "                                                                 dot_1[8][0]                      \n",
      "                                                                 lstm_8[5][0]                     \n",
      "                                                                 lstm_8[5][2]                     \n",
      "                                                                 dot_1[9][0]                      \n",
      "                                                                 lstm_8[6][0]                     \n",
      "                                                                 lstm_8[6][2]                     \n",
      "                                                                 dot_1[10][0]                     \n",
      "                                                                 lstm_8[7][0]                     \n",
      "                                                                 lstm_8[7][2]                     \n",
      "                                                                 dot_1[11][0]                     \n",
      "                                                                 lstm_8[8][0]                     \n",
      "                                                                 lstm_8[8][2]                     \n",
      "__________________________________________________________________________________________________\n",
      "dense_3 (Dense)                 (None, 11)           1419        lstm_8[0][0]                     \n",
      "                                                                 lstm_8[1][0]                     \n",
      "                                                                 lstm_8[2][0]                     \n",
      "                                                                 lstm_8[3][0]                     \n",
      "                                                                 lstm_8[4][0]                     \n",
      "                                                                 lstm_8[5][0]                     \n",
      "                                                                 lstm_8[6][0]                     \n",
      "                                                                 lstm_8[7][0]                     \n",
      "                                                                 lstm_8[8][0]                     \n",
      "                                                                 lstm_8[9][0]                     \n",
      "==================================================================================================\n",
      "Total params: 185,484\n",
      "Trainable params: 185,484\n",
      "Non-trainable params: 0\n",
      "__________________________________________________________________________________________________\n"
     ]
    }
   ],
   "source": [
    "model.summary()"
   ]
  },
  {
   "cell_type": "markdown",
   "metadata": {},
   "source": [
    "Navigate through the output of `model.summary()` above. You can see that the layer named `attention_weights` outputs the `alphas` of shape (m, 30, 1) before `dot_2` computes the context vector for every time step $t = 0, \\ldots, T_y-1$. Lets get the activations from this layer.\n",
    "\n",
    "The function `attention_map()` pulls out the attention values from your model and plots them."
   ]
  },
  {
   "cell_type": "code",
   "execution_count": 39,
   "metadata": {
    "scrolled": false
   },
   "outputs": [
    {
     "ename": "InvalidArgumentError",
     "evalue": "You must feed a value for placeholder tensor 'input_6' with dtype float and shape [?,30,37]\n\t [[{{node input_6}}]]",
     "output_type": "error",
     "traceback": [
      "\u001b[1;31m---------------------------------------------------------------------------\u001b[0m",
      "\u001b[1;31mInvalidArgumentError\u001b[0m                      Traceback (most recent call last)",
      "\u001b[1;32m<ipython-input-39-301e5e4a8227>\u001b[0m in \u001b[0;36m<module>\u001b[1;34m()\u001b[0m\n\u001b[1;32m----> 1\u001b[1;33m \u001b[0mattention_map\u001b[0m \u001b[1;33m=\u001b[0m \u001b[0mplot_attention_map\u001b[0m\u001b[1;33m(\u001b[0m\u001b[0mmodel\u001b[0m\u001b[1;33m,\u001b[0m \u001b[0mhuman_vocab\u001b[0m\u001b[1;33m,\u001b[0m \u001b[0minv_machine_vocab\u001b[0m\u001b[1;33m,\u001b[0m \u001b[1;34m\"Tuesday April 08 1993\"\u001b[0m\u001b[1;33m,\u001b[0m \u001b[0mnum\u001b[0m \u001b[1;33m=\u001b[0m \u001b[1;36m6\u001b[0m\u001b[1;33m,\u001b[0m \u001b[0mn_s\u001b[0m \u001b[1;33m=\u001b[0m \u001b[1;36m128\u001b[0m\u001b[1;33m)\u001b[0m\u001b[1;33m\u001b[0m\u001b[0m\n\u001b[0m",
      "\u001b[1;32m~\\Deep_Learning_Sequence_Models_Course_5\\Week 3\\Machine Translation\\nmt_utils.py\u001b[0m in \u001b[0;36mplot_attention_map\u001b[1;34m(model, input_vocabulary, inv_output_vocabulary, text, n_s, num, Tx, Ty)\u001b[0m\n\u001b[0;32m    197\u001b[0m \u001b[1;33m\u001b[0m\u001b[0m\n\u001b[0;32m    198\u001b[0m     \u001b[0mf\u001b[0m \u001b[1;33m=\u001b[0m \u001b[0mK\u001b[0m\u001b[1;33m.\u001b[0m\u001b[0mfunction\u001b[0m\u001b[1;33m(\u001b[0m\u001b[0mmodel\u001b[0m\u001b[1;33m.\u001b[0m\u001b[0minputs\u001b[0m\u001b[1;33m,\u001b[0m \u001b[1;33m[\u001b[0m\u001b[0mlayer\u001b[0m\u001b[1;33m.\u001b[0m\u001b[0mget_output_at\u001b[0m\u001b[1;33m(\u001b[0m\u001b[0mt\u001b[0m\u001b[1;33m)\u001b[0m \u001b[1;32mfor\u001b[0m \u001b[0mt\u001b[0m \u001b[1;32min\u001b[0m \u001b[0mrange\u001b[0m\u001b[1;33m(\u001b[0m\u001b[0mTy\u001b[0m\u001b[1;33m)\u001b[0m\u001b[1;33m]\u001b[0m\u001b[1;33m)\u001b[0m\u001b[1;33m\u001b[0m\u001b[0m\n\u001b[1;32m--> 199\u001b[1;33m     \u001b[0mr\u001b[0m \u001b[1;33m=\u001b[0m \u001b[0mf\u001b[0m\u001b[1;33m(\u001b[0m\u001b[1;33m[\u001b[0m\u001b[0mencoded\u001b[0m\u001b[1;33m,\u001b[0m \u001b[0ms0\u001b[0m\u001b[1;33m,\u001b[0m \u001b[0mc0\u001b[0m\u001b[1;33m]\u001b[0m\u001b[1;33m)\u001b[0m\u001b[1;33m\u001b[0m\u001b[0m\n\u001b[0m\u001b[0;32m    200\u001b[0m \u001b[1;33m\u001b[0m\u001b[0m\n\u001b[0;32m    201\u001b[0m     \u001b[1;32mfor\u001b[0m \u001b[0mt\u001b[0m \u001b[1;32min\u001b[0m \u001b[0mrange\u001b[0m\u001b[1;33m(\u001b[0m\u001b[0mTy\u001b[0m\u001b[1;33m)\u001b[0m\u001b[1;33m:\u001b[0m\u001b[1;33m\u001b[0m\u001b[0m\n",
      "\u001b[1;32mD:\\anaconda\\lib\\site-packages\\keras\\backend\\tensorflow_backend.py\u001b[0m in \u001b[0;36m__call__\u001b[1;34m(self, inputs)\u001b[0m\n\u001b[0;32m   2713\u001b[0m                 \u001b[1;32mreturn\u001b[0m \u001b[0mself\u001b[0m\u001b[1;33m.\u001b[0m\u001b[0m_legacy_call\u001b[0m\u001b[1;33m(\u001b[0m\u001b[0minputs\u001b[0m\u001b[1;33m)\u001b[0m\u001b[1;33m\u001b[0m\u001b[0m\n\u001b[0;32m   2714\u001b[0m \u001b[1;33m\u001b[0m\u001b[0m\n\u001b[1;32m-> 2715\u001b[1;33m             \u001b[1;32mreturn\u001b[0m \u001b[0mself\u001b[0m\u001b[1;33m.\u001b[0m\u001b[0m_call\u001b[0m\u001b[1;33m(\u001b[0m\u001b[0minputs\u001b[0m\u001b[1;33m)\u001b[0m\u001b[1;33m\u001b[0m\u001b[0m\n\u001b[0m\u001b[0;32m   2716\u001b[0m         \u001b[1;32melse\u001b[0m\u001b[1;33m:\u001b[0m\u001b[1;33m\u001b[0m\u001b[0m\n\u001b[0;32m   2717\u001b[0m             \u001b[1;32mif\u001b[0m \u001b[0mpy_any\u001b[0m\u001b[1;33m(\u001b[0m\u001b[0mis_tensor\u001b[0m\u001b[1;33m(\u001b[0m\u001b[0mx\u001b[0m\u001b[1;33m)\u001b[0m \u001b[1;32mfor\u001b[0m \u001b[0mx\u001b[0m \u001b[1;32min\u001b[0m \u001b[0minputs\u001b[0m\u001b[1;33m)\u001b[0m\u001b[1;33m:\u001b[0m\u001b[1;33m\u001b[0m\u001b[0m\n",
      "\u001b[1;32mD:\\anaconda\\lib\\site-packages\\keras\\backend\\tensorflow_backend.py\u001b[0m in \u001b[0;36m_call\u001b[1;34m(self, inputs)\u001b[0m\n\u001b[0;32m   2673\u001b[0m             \u001b[0mfetched\u001b[0m \u001b[1;33m=\u001b[0m \u001b[0mself\u001b[0m\u001b[1;33m.\u001b[0m\u001b[0m_callable_fn\u001b[0m\u001b[1;33m(\u001b[0m\u001b[1;33m*\u001b[0m\u001b[0marray_vals\u001b[0m\u001b[1;33m,\u001b[0m \u001b[0mrun_metadata\u001b[0m\u001b[1;33m=\u001b[0m\u001b[0mself\u001b[0m\u001b[1;33m.\u001b[0m\u001b[0mrun_metadata\u001b[0m\u001b[1;33m)\u001b[0m\u001b[1;33m\u001b[0m\u001b[0m\n\u001b[0;32m   2674\u001b[0m         \u001b[1;32melse\u001b[0m\u001b[1;33m:\u001b[0m\u001b[1;33m\u001b[0m\u001b[0m\n\u001b[1;32m-> 2675\u001b[1;33m             \u001b[0mfetched\u001b[0m \u001b[1;33m=\u001b[0m \u001b[0mself\u001b[0m\u001b[1;33m.\u001b[0m\u001b[0m_callable_fn\u001b[0m\u001b[1;33m(\u001b[0m\u001b[1;33m*\u001b[0m\u001b[0marray_vals\u001b[0m\u001b[1;33m)\u001b[0m\u001b[1;33m\u001b[0m\u001b[0m\n\u001b[0m\u001b[0;32m   2676\u001b[0m         \u001b[1;32mreturn\u001b[0m \u001b[0mfetched\u001b[0m\u001b[1;33m[\u001b[0m\u001b[1;33m:\u001b[0m\u001b[0mlen\u001b[0m\u001b[1;33m(\u001b[0m\u001b[0mself\u001b[0m\u001b[1;33m.\u001b[0m\u001b[0moutputs\u001b[0m\u001b[1;33m)\u001b[0m\u001b[1;33m]\u001b[0m\u001b[1;33m\u001b[0m\u001b[0m\n\u001b[0;32m   2677\u001b[0m \u001b[1;33m\u001b[0m\u001b[0m\n",
      "\u001b[1;32mD:\\anaconda\\lib\\site-packages\\tensorflow\\python\\client\\session.py\u001b[0m in \u001b[0;36m__call__\u001b[1;34m(self, *args, **kwargs)\u001b[0m\n\u001b[0;32m   1437\u001b[0m           ret = tf_session.TF_SessionRunCallable(\n\u001b[0;32m   1438\u001b[0m               \u001b[0mself\u001b[0m\u001b[1;33m.\u001b[0m\u001b[0m_session\u001b[0m\u001b[1;33m.\u001b[0m\u001b[0m_session\u001b[0m\u001b[1;33m,\u001b[0m \u001b[0mself\u001b[0m\u001b[1;33m.\u001b[0m\u001b[0m_handle\u001b[0m\u001b[1;33m,\u001b[0m \u001b[0margs\u001b[0m\u001b[1;33m,\u001b[0m \u001b[0mstatus\u001b[0m\u001b[1;33m,\u001b[0m\u001b[1;33m\u001b[0m\u001b[0m\n\u001b[1;32m-> 1439\u001b[1;33m               run_metadata_ptr)\n\u001b[0m\u001b[0;32m   1440\u001b[0m         \u001b[1;32mif\u001b[0m \u001b[0mrun_metadata\u001b[0m\u001b[1;33m:\u001b[0m\u001b[1;33m\u001b[0m\u001b[0m\n\u001b[0;32m   1441\u001b[0m           \u001b[0mproto_data\u001b[0m \u001b[1;33m=\u001b[0m \u001b[0mtf_session\u001b[0m\u001b[1;33m.\u001b[0m\u001b[0mTF_GetBuffer\u001b[0m\u001b[1;33m(\u001b[0m\u001b[0mrun_metadata_ptr\u001b[0m\u001b[1;33m)\u001b[0m\u001b[1;33m\u001b[0m\u001b[0m\n",
      "\u001b[1;32mD:\\anaconda\\lib\\site-packages\\tensorflow\\python\\framework\\errors_impl.py\u001b[0m in \u001b[0;36m__exit__\u001b[1;34m(self, type_arg, value_arg, traceback_arg)\u001b[0m\n\u001b[0;32m    526\u001b[0m             \u001b[1;32mNone\u001b[0m\u001b[1;33m,\u001b[0m \u001b[1;32mNone\u001b[0m\u001b[1;33m,\u001b[0m\u001b[1;33m\u001b[0m\u001b[0m\n\u001b[0;32m    527\u001b[0m             \u001b[0mcompat\u001b[0m\u001b[1;33m.\u001b[0m\u001b[0mas_text\u001b[0m\u001b[1;33m(\u001b[0m\u001b[0mc_api\u001b[0m\u001b[1;33m.\u001b[0m\u001b[0mTF_Message\u001b[0m\u001b[1;33m(\u001b[0m\u001b[0mself\u001b[0m\u001b[1;33m.\u001b[0m\u001b[0mstatus\u001b[0m\u001b[1;33m.\u001b[0m\u001b[0mstatus\u001b[0m\u001b[1;33m)\u001b[0m\u001b[1;33m)\u001b[0m\u001b[1;33m,\u001b[0m\u001b[1;33m\u001b[0m\u001b[0m\n\u001b[1;32m--> 528\u001b[1;33m             c_api.TF_GetCode(self.status.status))\n\u001b[0m\u001b[0;32m    529\u001b[0m     \u001b[1;31m# Delete the underlying status object from memory otherwise it stays alive\u001b[0m\u001b[1;33m\u001b[0m\u001b[1;33m\u001b[0m\u001b[0m\n\u001b[0;32m    530\u001b[0m     \u001b[1;31m# as there is a reference to status from this from the traceback due to\u001b[0m\u001b[1;33m\u001b[0m\u001b[1;33m\u001b[0m\u001b[0m\n",
      "\u001b[1;31mInvalidArgumentError\u001b[0m: You must feed a value for placeholder tensor 'input_6' with dtype float and shape [?,30,37]\n\t [[{{node input_6}}]]"
     ]
    }
   ],
   "source": [
    "attention_map = plot_attention_map(model, human_vocab, inv_machine_vocab, \"Tuesday April 08 1993\", num = 6, n_s = 128)"
   ]
  },
  {
   "cell_type": "markdown",
   "metadata": {},
   "source": [
    "On the generated plot you can observe the values of the attention weights for each character of the predicted output. Examine this plot and check that where the network is paying attention makes sense to you.\n",
    "\n",
    "In the date translation application, you will observe that most of the time attention helps predict the year, and hasn't much impact on predicting the day/month."
   ]
  },
  {
   "cell_type": "markdown",
   "metadata": {},
   "source": [
    "### Congratulations!\n",
    "\n",
    "\n",
    "You have come to the end of this assignment \n",
    "\n",
    "<font color='blue'> **Here's what you should remember from this notebook**:\n",
    "\n",
    "- Machine translation models can be used to map from one sequence to another. They are useful not just for translating human languages (like French->English) but also for tasks like date format translation. \n",
    "- An attention mechanism allows a network to focus on the most relevant parts of the input when producing a specific part of the output. \n",
    "- A network using an attention mechanism can translate from inputs of length $T_x$ to outputs of length $T_y$, where $T_x$ and $T_y$ can be different. \n",
    "- You can visualize attention weights $\\alpha^{\\langle t,t' \\rangle}$ to see what the network is paying attention to while generating each output."
   ]
  },
  {
   "cell_type": "markdown",
   "metadata": {},
   "source": [
    "Congratulations on finishing this assignment! You are now able to implement an attention model and use it to learn complex mappings from one sequence to another. "
   ]
  }
 ],
 "metadata": {
  "coursera": {
   "course_slug": "nlp-sequence-models",
   "graded_item_id": "n16CQ",
   "launcher_item_id": "npjGi"
  },
  "kernelspec": {
   "display_name": "Python 3",
   "language": "python",
   "name": "python3"
  },
  "language_info": {
   "codemirror_mode": {
    "name": "ipython",
    "version": 3
   },
   "file_extension": ".py",
   "mimetype": "text/x-python",
   "name": "python",
   "nbconvert_exporter": "python",
   "pygments_lexer": "ipython3",
   "version": "3.6.3"
  }
 },
 "nbformat": 4,
 "nbformat_minor": 2
}
